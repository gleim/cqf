{
 "cells": [
  {
   "cell_type": "markdown",
   "id": "ef0a3942",
   "metadata": {},
   "source": [
    "# Financial Data Sources & APIs"
   ]
  },
  {
   "cell_type": "markdown",
   "id": "82776c35",
   "metadata": {},
   "source": [
    "A time series is essentially a sequence of data points arranged in chronological order. It’s like a story told over time, where each data point represents a snapshot at a specific moment. Time series data is indexed in time order, and examples include financial data such as equity prices, commodity prices, and forex rates, all of which are observed at regular time intervals.\n",
    "\n",
    "## Financial Data Preprocessing\n",
    "\n",
    "The first step in any data analysis is to parse the raw data. This involves extracting the data from the source, cleaning it up, and addressing any missing values. Financial data can come in many forms, but Python makes it easy to read and manipulate this data using powerful packages.\n",
    "\n",
    "In this session, we'll focus on how to retrieve and store time series data using some popular Python libraries. Specifically, we’ll work with end-of-day data, intraday data, and option chain data. Additionally, we’ll explore how to read time series data from traditional local sources like SQL databases."
   ]
  },
  {
   "cell_type": "markdown",
   "id": "940f83fe",
   "metadata": {},
   "source": [
    "**Import Libraries**"
   ]
  },
  {
   "cell_type": "code",
   "execution_count": null,
   "id": "30f0ae1a",
   "metadata": {},
   "outputs": [],
   "source": [
    "# Import client from TradingStrategy\n",
    "from tradingstrategy.client import Client\n",
    "\n",
    "# Create client for data import\n",
    "client = Client.create_jupyter_client()\n",
    "\n",
    "# Import time series package from TradingStrategy\n",
    "from tradingstrategy.timebucket import TimeBucket\n",
    "\n",
    "import pandas as pd"
   ]
  },
  {
   "cell_type": "markdown",
   "id": "10e413cd",
   "metadata": {},
   "source": [
    "## Financial Time Series Data Retrieval"
   ]
  },
  {
   "cell_type": "code",
   "execution_count": null,
   "id": "42b22eb1",
   "metadata": {},
   "outputs": [],
   "source": [
    "# Fetch data by specifying the period\n",
    "all_candles = client.fetch_all_candles(TimeBucket.d1)\n",
    "\n",
    "# Represent candles as Pandas data frame\n",
    "all_candles_df = all_candles.to_pandas()\n",
    "\n",
    "# Display the all candles data frame\n",
    "all_candles_df"
   ]
  },
  {
   "cell_type": "code",
   "execution_count": null,
   "id": "2845f0cd",
   "metadata": {},
   "outputs": [],
   "source": [
    "# Represent instrument pair from candle data\n",
    "pair_id = 4\n",
    "\n",
    "# Grab pair index 1, happens to be ETH/USDC [verify independently]\n",
    "eth_usdc_pair: pd.DataFrame = all_candles_df.loc[all_candles_df['pair_id'] == pair_id] \n",
    "\n",
    "# Display the ETH/USDC pair candle data\n",
    "eth_usdc_pair"
   ]
  },
  {
   "cell_type": "markdown",
   "id": "f816345b",
   "metadata": {},
   "source": [
    "\n",
    "## Plotting an interactive chart with Plotly\n",
    "\n",
    "Let’s try interactive charts. You can pan and zoom into interactive charts, making them easier to explore.\n",
    "\n",
    "Plotly uses its JavaScript library to make the chart interactive on any HTML page."
   ]
  },
  {
   "cell_type": "code",
   "execution_count": null,
   "id": "631edaab",
   "metadata": {},
   "outputs": [],
   "source": [
    "import plotly.graph_objects as go\n",
    "from plotly.offline import iplot\n",
    "\n",
    "fig = go.Figure(data=[go.Candlestick(x=eth_usdc_pair['timestamp'],\n",
    "                open=eth_usdc_pair['open'],\n",
    "                high=eth_usdc_pair['high'],\n",
    "                low=eth_usdc_pair['low'],\n",
    "                close=eth_usdc_pair['close'])])\n",
    "iplot(fig)\n"
   ]
  },
  {
   "cell_type": "markdown",
   "id": "97de184a",
   "metadata": {},
   "source": [
    "## OHCL Chart\n",
    "\n",
    "Then we have OHCL chart. It is exactly the same as candle chart, but renders candle wicks differently if you zoom in."
   ]
  },
  {
   "cell_type": "code",
   "execution_count": null,
   "id": "35db850c",
   "metadata": {},
   "outputs": [],
   "source": [
    "fig = go.Figure(data=[go.Ohlc(x=eth_usdc_pair['timestamp'],\n",
    "                open=eth_usdc_pair['open'],\n",
    "                high=eth_usdc_pair['high'],\n",
    "                low=eth_usdc_pair['low'],\n",
    "                close=eth_usdc_pair['close'])])\n",
    "\n",
    "fig.show()"
   ]
  },
  {
   "cell_type": "markdown",
   "id": "00d1b181",
   "metadata": {},
   "source": [
    "## Returns\n",
    "\n",
    "Daily or periodic returns can be calculated from price data using the `.pct_change()` method on a pandas Series or DataFrame of prices.\n",
    "\n",
    "Log returns can be calculated using `np.log(prices / prices.shift(1))`"
   ]
  },
  {
   "cell_type": "code",
   "execution_count": null,
   "id": "14a1d893",
   "metadata": {},
   "outputs": [],
   "source": [
    "prices = eth_usdc_pair['close']\n",
    "\n",
    "returns = prices.pct_change().dropna()\n",
    "\n",
    "display(returns)"
   ]
  },
  {
   "cell_type": "markdown",
   "id": "24fe0c21",
   "metadata": {},
   "source": [
    "## Standard Deviation (Volatility)\n",
    "\n",
    "The `.std()` method directly calculates the standard deviation of a Series or DataFrame, representing historical volatility."
   ]
  },
  {
   "cell_type": "code",
   "execution_count": null,
   "id": "f698e4d0",
   "metadata": {},
   "outputs": [],
   "source": [
    "volatility = returns.std()\n",
    "\n",
    "display(volatility)"
   ]
  },
  {
   "cell_type": "markdown",
   "id": "7c899a09",
   "metadata": {},
   "source": [
    "## Annualized Volatility\n",
    "\n",
    "For annualizing daily volatility, multiply by the square root of the number of trading days (e.g., 252 for equities, 365 for cryptocurrencies)."
   ]
  },
  {
   "cell_type": "code",
   "execution_count": null,
   "id": "f096bdab",
   "metadata": {},
   "outputs": [],
   "source": [
    "import numpy as np\n",
    "\n",
    "annualized_volatility = volatility * np.sqrt(365)\n",
    "\n",
    "display(annualized_volatility)"
   ]
  },
  {
   "cell_type": "markdown",
   "id": "c4c87755",
   "metadata": {},
   "source": [
    "**Calculate basic stats**"
   ]
  },
  {
   "cell_type": "code",
   "execution_count": null,
   "id": "1fc75814",
   "metadata": {},
   "outputs": [],
   "source": [
    "# Calculate Statistics\n",
    "ret = returns.mean() * 252 * 100\n",
    "vol = returns.std() * 100\n",
    "\n",
    "display(ret)\n",
    "display(vol)\n",
    "\n",
    "#stats = pd.DataFrame({\"AnnRet\": ret, \"AnnVol\": vol})"
   ]
  },
  {
   "cell_type": "markdown",
   "id": "d4714d7d",
   "metadata": {},
   "source": [
    "## Line Chart"
   ]
  },
  {
   "cell_type": "code",
   "execution_count": null,
   "id": "688b673d",
   "metadata": {},
   "outputs": [],
   "source": [
    "import cufflinks as cf\n",
    "cf.go_offline() # enables offline mode for Plotly\n",
    "\n",
    "# Line Chart\n",
    "display(prices)\n",
    "prices.iplot(kind=\"line\", color='cornflowerblue')"
   ]
  },
  {
   "cell_type": "markdown",
   "id": "ebf12cfa",
   "metadata": {},
   "source": [
    "## Scatter Plot"
   ]
  },
  {
   "cell_type": "code",
   "execution_count": null,
   "id": "8fb4d69e",
   "metadata": {},
   "outputs": [],
   "source": [
    "# Scatter Plot\n",
    "returns.iplot(kind=\"scatter\", title=\"Scatter Plot\")"
   ]
  },
  {
   "cell_type": "markdown",
   "id": "1e427756",
   "metadata": {},
   "source": [
    "## Histogram"
   ]
  },
  {
   "cell_type": "code",
   "execution_count": null,
   "id": "df06227d",
   "metadata": {},
   "outputs": [],
   "source": [
    "# Histogram \n",
    "returns.iplot(kind=\"histogram\")"
   ]
  },
  {
   "cell_type": "markdown",
   "id": "037828c8",
   "metadata": {},
   "source": [
    "## Box Plot"
   ]
  },
  {
   "cell_type": "code",
   "execution_count": null,
   "id": "b99d9556",
   "metadata": {},
   "outputs": [],
   "source": [
    "# Box Plot\n",
    "returns.iplot(kind=\"box\", showlegend=False, title=\"Box Plot Analysis\")"
   ]
  }
 ],
 "metadata": {
  "kernelspec": {
   "display_name": "Python 3",
   "language": "python",
   "name": "python3"
  },
  "language_info": {
   "codemirror_mode": {
    "name": "ipython",
    "version": 3
   },
   "file_extension": ".py",
   "mimetype": "text/x-python",
   "name": "python",
   "nbconvert_exporter": "python",
   "pygments_lexer": "ipython3",
   "version": "3.11.10"
  },
  "toc": {
   "base_numbering": 1,
   "nav_menu": {},
   "number_sections": true,
   "sideBar": true,
   "skip_h1_title": false,
   "title_cell": "Table of Contents",
   "title_sidebar": "Contents",
   "toc_cell": false,
   "toc_position": {
    "height": "calc(100% - 180px)",
    "left": "10px",
    "top": "150px",
    "width": "356.168488px"
   },
   "toc_section_display": true,
   "toc_window_display": false
  }
 },
 "nbformat": 4,
 "nbformat_minor": 5
}
