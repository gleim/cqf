{
 "cells": [
  {
   "cell_type": "markdown",
   "id": "ef0a3942",
   "metadata": {},
   "source": [
    "# Portfolio Optimization"
   ]
  },
  {
   "cell_type": "markdown",
   "id": "6f50cd39",
   "metadata": {},
   "source": [
    "Portfolio optimization is the process of choosing the best combination of assets to achieve the highest possible return for a given level of risk, or alternatively, the lowest risk for a desired return.  The goal is to build a well-diversified portfolio that performs efficiently under various market conditions.\n",
    "\n",
    "## Modern Portfolio Theory\n",
    "\n",
    "\n",
    "Modern Portfolio Theory (MPT), also known as Mean-Variance Portfolio Theory, represents a major breakthrough in finance. It is based on the premise that asset returns are normally distributed, meaning that their behavior can be described using just the mean (expected return) and variance (risk or volatility).\n",
    "\n",
    "The core idea of MPT is to achieve diversification by constructing a portfolio that either minimizes risk for a given level of expected return or maximizes expected return for a given level of risk.\n",
    "\n",
    "The Efficient Frontier represents the set of optimal portfolios along the risk-return spectrum. Portfolios that lie below the Efficient Frontier are considered sub-optimal, as they offer lower returns for a given level of risk or higher risk for a given level of return.\n",
    "\n",
    "**Portfolios on the Efficient Frontier provide:**\n",
    "\n",
    "a. The highest expected return for a given level of risk`, or\n",
    "\n",
    "b. The lowest level of risk for a given level of expected return`\n",
    "\n",
    "In essence, an investor's goal is to determine the level of risk they are comfortable with, and then select a portfolio on the Efficient Frontier that offers the best possible return for that risk level. "
   ]
  },
  {
   "cell_type": "markdown",
   "id": "940f83fe",
   "metadata": {},
   "source": [
    "**Import Libraries**"
   ]
  },
  {
   "cell_type": "code",
   "execution_count": null,
   "id": "30f0ae1a",
   "metadata": {},
   "outputs": [],
   "source": [
    "# Import client from TradingStrategy\n",
    "from tradingstrategy.client import Client\n",
    "\n",
    "from tradingstrategy.chain import ChainId\n",
    "from tradingstrategy.exchange import ExchangeUniverse\n",
    "from tradingstrategy.timebucket import TimeBucket\n",
    "from tradingstrategy.pair import PandasPairUniverse, HumanReadableTradingPairDescription\n",
    "\n",
    "# Create client for data import\n",
    "client = Client.create_jupyter_client()\n",
    "\n",
    "from pyarrow import Table\n",
    "import pandas as pd"
   ]
  },
  {
   "cell_type": "markdown",
   "id": "10e413cd",
   "metadata": {},
   "source": [
    "## Pair Universe Retrieval"
   ]
  },
  {
   "cell_type": "code",
   "execution_count": null,
   "id": "42b22eb1",
   "metadata": {},
   "outputs": [],
   "source": [
    "# Fetch exchange universe\n",
    "exchange_universe: ExchangeUniverse = client.fetch_exchange_universe()\n",
    "\n",
    "# Fetch pair dataset, decompress raw PyArrow data to Python map\n",
    "columnar_pair_table: Table = client.fetch_pair_universe()\n",
    "print(f\"Total pairs {len(columnar_pair_table)}, total exchanges {len(exchange_universe.exchanges)}\")\n",
    "\n",
    "# Wrap the data in a helper class with indexes for easier access\n",
    "pair_universe = PandasPairUniverse(columnar_pair_table.to_pandas(), exchange_universe=exchange_universe)"
   ]
  },
  {
   "cell_type": "markdown",
   "id": "e887064e",
   "metadata": {},
   "source": [
    "## Retrieve trading pairs with specific human description\n",
    "\n",
    "Human descriptions for Uniswap v3 are retrieved from https://tradingstrategy.ai/trading-view/ethereum/uniswap-v3"
   ]
  },
  {
   "cell_type": "code",
   "execution_count": null,
   "id": "2845f0cd",
   "metadata": {},
   "outputs": [],
   "source": [
    "\n",
    "# Get BTC-USD pair description on Uniswap v3 [less pairs than v2]\n",
    "btc_usd_desc: HumanReadableTradingPairDescription = (ChainId.ethereum, \"uniswap-v3\", \"WBTC\", \"USDC\", 0.003) # Wrapped BTC-USD Coin https://tradingstrategy.ai/trading-view/ethereum/uniswap-v3/wbtc-usdc-fee-30\n",
    "display(btc_usd_desc)\n",
    "\n",
    "# Get ETH-USD pair description on Uniswap v3 [less pairs than v2]\n",
    "eth_usd_desc: HumanReadableTradingPairDescription = (ChainId.ethereum, \"uniswap-v3\", \"WETH\", \"USDC\", 0.0005) # Ether-USD Coin https://tradingstrategy.ai/trading-view/ethereum/uniswap-v3/eth-usdc-fee-5\n",
    "display(eth_usd_desc)\n",
    "\n",
    "# Retrieve pair using description as index\n",
    "btc_usd_pair = pair_universe.get_pair_by_human_description(btc_usd_desc)\n",
    "eth_usd_pair = pair_universe.get_pair_by_human_description(eth_usd_desc)\n",
    "display(btc_usd_pair)\n",
    "display(eth_usd_pair)"
   ]
  },
  {
   "cell_type": "markdown",
   "id": "a54fbac9",
   "metadata": {},
   "source": [
    "## Retrieve all candles (sub-optimal unless caching for later use) "
   ]
  },
  {
   "cell_type": "code",
   "execution_count": null,
   "id": "d1a056cc",
   "metadata": {},
   "outputs": [],
   "source": [
    "# Download all 24h candles as Parquet columnar data\n",
    "all_candles = client.fetch_all_candles(TimeBucket.d1)\n",
    "\n",
    "# Convert PyArrow table to Pandas\n",
    "all_candles_dataframe = all_candles.to_pandas()\n",
    "\n",
    "# Retrieve candles \n",
    "btc_usd_candles: pd.DataFrame = all_candles_dataframe.loc[all_candles_dataframe['pair_id'] == btc_usd_pair.pair_id]\n",
    "eth_usd_candles: pd.DataFrame = all_candles_dataframe.loc[all_candles_dataframe['pair_id'] == eth_usd_pair.pair_id]\n",
    "\n",
    "print(f\"Uniswap v2 BTC-USDC has {len(btc_usd_candles)} daily candles: {btc_usd_candles}\")\n",
    "print(f\"Uniswap v2 ETH-USDC has {len(eth_usd_candles)} daily candles: {eth_usd_candles}\")\n",
    "\n",
    "# Swap exchanges separate buy volume from sell volume so we'll append a new total volume column\n",
    "btc_usd_candles[\"volume\"] = btc_usd_candles[\"buy_volume\"] + btc_usd_candles[\"sell_volume\"]\n",
    "eth_usd_candles[\"volume\"] = eth_usd_candles[\"buy_volume\"] + eth_usd_candles[\"sell_volume\"]\n"
   ]
  },
  {
   "cell_type": "markdown",
   "id": "3d05601c",
   "metadata": {},
   "source": [
    "## Assemble Price Table"
   ]
  },
  {
   "cell_type": "code",
   "execution_count": null,
   "id": "fe8b86bf",
   "metadata": {},
   "outputs": [],
   "source": [
    "# build price table for covariance analysis from common timestamps\n",
    "merge_table = pd.merge(btc_usd_candles, eth_usd_candles, on='timestamp', how='inner', suffixes=('_btc', '_eth'))\n",
    "\n",
    "# represent price as price at close\n",
    "btc_price = merge_table['close_btc']\n",
    "eth_price = merge_table['close_eth']                      \n",
    "\n",
    "display(btc_price)\n",
    "display(eth_price)\n",
    "\n",
    "price_table = pd.DataFrame([btc_price, eth_price])\n",
    "# display prices\n",
    "display(price_table)\n"
   ]
  },
  {
   "cell_type": "markdown",
   "id": "f0980ef8",
   "metadata": {},
   "source": [
    "## Alternative Price Table Representation"
   ]
  },
  {
   "cell_type": "code",
   "execution_count": null,
   "id": "21a903a2",
   "metadata": {},
   "outputs": [],
   "source": [
    "returns = pd.concat([btc_price, eth_price], axis=1, join='inner')\n",
    "display(returns)"
   ]
  },
  {
   "cell_type": "markdown",
   "id": "41ab2a65",
   "metadata": {},
   "source": [
    "## Assemble Returns Matrix\n",
    "\n",
    "Not represented here, we can also provide log returns calculated using `np.log(prices / prices.shift(1))`"
   ]
  },
  {
   "cell_type": "code",
   "execution_count": null,
   "id": "3dd1c801",
   "metadata": {},
   "outputs": [],
   "source": [
    "btc_returns = btc_price.pct_change()\n",
    "eth_returns = eth_price.pct_change()\n",
    "returns_table = pd.DataFrame([btc_returns, eth_returns])\n",
    "\n",
    "# strip first row where ptc_change is Nan\n",
    "returns_table = returns_table.dropna(axis=1)\n",
    "display(returns_table)"
   ]
  },
  {
   "cell_type": "markdown",
   "id": "0d85484f",
   "metadata": {},
   "source": [
    "## Calculate Volatility"
   ]
  },
  {
   "cell_type": "code",
   "execution_count": null,
   "id": "6e55338a",
   "metadata": {},
   "outputs": [],
   "source": [
    "# Calculate daily standard deviation (volatility)\n",
    "btc_volatility = btc_returns.std()\n",
    "eth_volatility = eth_returns.std()\n",
    "\n",
    "display(btc_volatility)\n",
    "display(eth_volatility)\n",
    "\n",
    "# Calculate daily covariance"
   ]
  },
  {
   "cell_type": "markdown",
   "id": "3611bc88",
   "metadata": {},
   "source": [
    "## Annualized Volatility\n",
    "\n",
    "For annualizing daily volatility, multiply by the square root of the number of trading days (e.g., 252 for equities, 365 for cryptocurrencies)."
   ]
  },
  {
   "cell_type": "code",
   "execution_count": null,
   "id": "6daf9193",
   "metadata": {},
   "outputs": [],
   "source": [
    "import numpy as np\n",
    "\n",
    "btc_annualized_volatility = btc_volatility * np.sqrt(365)\n",
    "eth_annualized_volatility = eth_volatility * np.sqrt(365)\n",
    "\n",
    "display(btc_annualized_volatility)\n",
    "display(eth_annualized_volatility)"
   ]
  },
  {
   "cell_type": "markdown",
   "id": "a406f83f",
   "metadata": {},
   "source": [
    "## Annual Returns and Volatility, alternative formulation "
   ]
  },
  {
   "cell_type": "code",
   "execution_count": null,
   "id": "5ae87e49",
   "metadata": {},
   "outputs": [],
   "source": [
    "btc_annual_returns = round(btc_returns.mean()*260*100,2)\n",
    "btc_annual_stdev = round(btc_returns.std()*np.sqrt(260)*100,2)\n",
    "\n",
    "display(btc_annual_returns)\n",
    "display(btc_annual_stdev)\n",
    "\n",
    "eth_annual_returns = round(eth_returns.mean()*260*100,2)\n",
    "eth_annual_stdev = round(eth_returns.std()*np.sqrt(260)*100,2)\n",
    "\n",
    "display(eth_annual_returns)\n",
    "display(eth_annual_stdev)\n",
    "\n"
   ]
  },
  {
   "cell_type": "markdown",
   "id": "00d1b181",
   "metadata": {},
   "source": [
    "## Calculate Covariance"
   ]
  },
  {
   "cell_type": "code",
   "execution_count": null,
   "id": "14a1d893",
   "metadata": {},
   "outputs": [],
   "source": [
    "volatility_table = pd.DataFrame([btc_volatility, eth_volatility])\n",
    "display(volatility_table)"
   ]
  },
  {
   "cell_type": "markdown",
   "id": "3bb7181b",
   "metadata": {},
   "source": [
    "## Portfolio Statistics\n",
    "\n",
    "Consider a portfolio which is fully invested in risky assets. Let $w$ and $\\mu$ be the vector of weights and mean returns of *n* assets. <br><br>\n",
    "\n",
    "$$\n",
    "\\ {w=}\\left( \n",
    "\\begin{array}{c}\n",
    "w_1 \\\\\n",
    "w_2 \\\\\n",
    "\\vdots \\\\\n",
    "w_n \\\\ \n",
    "\\end{array}%\n",
    "\\right);\n",
    "\\ \\mathbf{\\mu=}\\left( \n",
    "\\begin{array}{ccc}\n",
    "\\mu_1 \\\\ \n",
    "\\mu_2 \\\\ \n",
    "\\vdots \\\\\n",
    "\\mu_n \\\\ \n",
    "\\end{array}%\n",
    "\\right)\n",
    "$$ \n",
    "\n",
    "where the $\\sum_{i=1}^{n}w_i=1$\n",
    "\n",
    "**`Expected Portfolio Return`** is then the dot product of the expected returns and their weights. <br><br>\n",
    "\n",
    "$$\\mu_\\pi = w^T\\cdot\\mu$$\n",
    "\n",
    "which is also equivalent to the $\\Sigma_{i=1}^{n}w_i\\mu_i$\n",
    "\n",
    "\n",
    "**`Expected Portfolio Variance`** is then the multidot product of weights and the covariance matrix. <br><br>\n",
    "\n",
    "$$\\sigma^2_\\pi = w^T\\cdot\\Sigma\\cdot w $$\n",
    "\n",
    "where, ${\\Sigma}$ is the covariance matrix\n",
    "\n",
    "$$\n",
    "{\\Sigma=}\\left( \n",
    "\\begin{array}{ccc}\n",
    "\\Sigma_{1,1} & \\dots & \\Sigma_{1,n} \\\\ \n",
    "\\vdots & \\ddots & \\vdots  \\\\ \n",
    "\\Sigma_{n,1} & \\dots & \\Sigma_{n,n} \\\\ %\n",
    "\\end{array}%\n",
    "\\right)\n",
    "$$"
   ]
  },
  {
   "cell_type": "code",
   "execution_count": null,
   "id": "c6ef9041",
   "metadata": {},
   "outputs": [],
   "source": [
    "# Let's troubleshoot our returns_table representation\n",
    "\n",
    "# Compute statistics\n",
    "mean_returns = (returns_table.mean()*260)\n",
    "cov_matrix = (returns_table.cov() * 260)\n",
    "display(mean_returns)\n",
    "display(mean_returns.mean())\n",
    "\n",
    "# Display the covariance matrix\n",
    "display(cov_matrix)\n",
    "\n",
    "# Gather length of mean returns for subsequent notebook cells\n",
    "n = len(mean_returns) \n"
   ]
  },
  {
   "cell_type": "markdown",
   "id": "5544ecfe",
   "metadata": {},
   "source": [
    "**Maximum Sharpe Ratio Portfolio**\n",
    "\n",
    "CVXPY is designed specifically for convex optimization, while the original Sharpe ratio maximization problem is non-convex due to its fractional (ratio) form.\n",
    "\n",
    "To address this, we apply a mathematical transformation. We set the portfolio excess return equal to 1 and then find the portfolio that achieves exactly 1 unit of excess return with minimum risk. This works due to the homogeneity of the Sharpe ratio. If a set of portfolio weights $w^{*}$ maximizes the Sharpe ratio, then any scaled version $k * w^{*}$ also achieves the same Sharpe ratio."
   ]
  },
  {
   "cell_type": "code",
   "execution_count": null,
   "id": "348049d3",
   "metadata": {},
   "outputs": [],
   "source": [
    "# ---- 1. Maximum Sharpe Ratio Portfolio ----\n",
    "\n",
    "import cvxpy as cp\n",
    "\n",
    "def optimize_max_sharpe(mean_returns, cov_matrix, risk_free_rate=0.0):\n",
    "\n",
    "    # Gather excess return\n",
    "    excess_return = mean_returns - risk_free_rate\n",
    "\n",
    "    # Gather length of mean returns\n",
    "    n = len(mean_returns) \n",
    "\n",
    "    # Create random weight vector\n",
    "    w = cp.Variable(n)\n",
    "    w.value = np.random.rand(1535)\n",
    "\n",
    "    # Matrix transforms for convexity\n",
    "    cov_matrix_np = cov_matrix.values\n",
    "    cov_matrix_psd = cp.psd_wrap(cov_matrix_np)  # Ensure PSD for CVXPY\n",
    "\n",
    "    # Calculate portfolio return and risk\n",
    "    port_return =  w @ excess_return\n",
    "    port_risk = cp.quad_form(w, cov_matrix_psd)\n",
    "    \n",
    "    # Minimize risk for 1 unit of excess return\n",
    "    objective = cp.Minimize(port_risk) \n",
    "    constraints = [w >= 0, port_return == 1]\n",
    "    \n",
    "    prob = cp.Problem(objective, constraints)\n",
    "    prob.solve()            \n",
    "    #print(prob.solver_stats.solver_name)\n",
    "    \n",
    "    if w.value is not None:\n",
    "        # Normalize weights to sum to 1\n",
    "        w_normalized = w.value / np.sum(w.value)\n",
    "        return w_normalized\n",
    "    else:\n",
    "        return None"
   ]
  },
  {
   "cell_type": "markdown",
   "id": "e1f431e0",
   "metadata": {},
   "source": [
    "**Display available solvers**"
   ]
  },
  {
   "cell_type": "code",
   "execution_count": null,
   "id": "5ae2947c",
   "metadata": {},
   "outputs": [],
   "source": [
    "# List of the solvers CVXPY supports\n",
    "from cvxpy import installed_solvers\n",
    "print(installed_solvers())"
   ]
  },
  {
   "cell_type": "markdown",
   "id": "0e8d94ca",
   "metadata": {},
   "source": [
    "**Calculate and Display Sharpe Optimization**"
   ]
  },
  {
   "cell_type": "code",
   "execution_count": null,
   "id": "4905c599",
   "metadata": {},
   "outputs": [],
   "source": [
    "# ---- Run Optimizations ----\n",
    "msr_weights = optimize_max_sharpe(mean_returns, cov_matrix) \n",
    "msr_weights"
   ]
  },
  {
   "cell_type": "markdown",
   "id": "07699ba8",
   "metadata": {},
   "source": [
    "**Minimum Variance Portfolio**\n",
    "\n",
    "The Minimum Variance Portfolio aims to find asset weights that minimize overall portfolio risk, regardless of expected returns. In this formulation, we minimize the portfolio's variance using the covariance matrix of asset returns. The optimization is subject to two constraints: the weights must sum to 1 (fully invested portfolio), and short-selling is not allowed (weights ≥ 0). This problem is convex and efficiently solved using CVXPY."
   ]
  },
  {
   "cell_type": "code",
   "execution_count": 16,
   "id": "4a05bb39",
   "metadata": {},
   "outputs": [],
   "source": [
    "# ---- 2. Minimum Variance Portfolio ----\n",
    "\n",
    "def optimize_min_variance(cov_matrix):\n",
    "    \n",
    "    w = cp.Variable(n)\n",
    "\n",
    "    cov_matrix_np = cov_matrix.values\n",
    "    cov_matrix_psd = cp.psd_wrap(cov_matrix_np)  # Ensure PSD for CVXPY\n",
    "\n",
    "    objective = cp.Minimize(cp.quad_form(w, cov_matrix_psd))\n",
    "    constraints = [cp.sum(w) == 1, w >= 0]\n",
    "    \n",
    "    prob = cp.Problem(objective, constraints)\n",
    "    prob.solve()\n",
    "    \n",
    "    return w.value"
   ]
  },
  {
   "cell_type": "markdown",
   "id": "14ca43ec",
   "metadata": {},
   "source": [
    "**Calculate and Display Minimum Variance Portfolio**"
   ]
  },
  {
   "cell_type": "code",
   "execution_count": null,
   "id": "5fb8a4f4",
   "metadata": {},
   "outputs": [],
   "source": [
    "display(cov_matrix)\n",
    "\n",
    "# ---- Run Optimizations ----\n",
    "mv_weights = optimize_min_variance(cov_matrix) \n",
    "mv_weights"
   ]
  },
  {
   "cell_type": "markdown",
   "id": "a213a475",
   "metadata": {},
   "source": [
    "**Maximum Return Portfolio**\n",
    "\n",
    "The Maximum Return Portfolio focuses solely on maximizing expected returns, without considering portfolio risk. Given the vector of mean asset returns, this optimization finds the portfolio weights that yield the highest expected return, subject to two constraints: full investment (weights sum to 1) and no short-selling (weights ≥ 0). This is a linear program and is efficiently solvable using CVXPY."
   ]
  },
  {
   "cell_type": "code",
   "execution_count": 18,
   "id": "b4c15d02",
   "metadata": {},
   "outputs": [],
   "source": [
    "# ---- 3. Maximum Return Portfolio ----\n",
    "\n",
    "def optimize_max_return(mean_returns):\n",
    "    \n",
    "    w = cp.Variable(n)\n",
    "    \n",
    "    objective = cp.Maximize(w @ mean_returns)\n",
    "    constraints = [cp.sum(w) == 1, w >= 0]\n",
    "    \n",
    "    prob = cp.Problem(objective, constraints)\n",
    "    prob.solve()\n",
    "    \n",
    "    return w.value"
   ]
  },
  {
   "cell_type": "markdown",
   "id": "38f8d7e3",
   "metadata": {},
   "source": [
    "**Calculate and Display Maximum Return Portfolio**"
   ]
  },
  {
   "cell_type": "code",
   "execution_count": null,
   "id": "0df61ece",
   "metadata": {},
   "outputs": [],
   "source": [
    "# ---- Run Optimizations ----\n",
    "mr_weights = optimize_max_return(mean_returns)\n",
    "mr_weights"
   ]
  },
  {
   "cell_type": "markdown",
   "id": "df2f75bb",
   "metadata": {},
   "source": [
    "**Portfolio Composition after Optimization**"
   ]
  },
  {
   "cell_type": "code",
   "execution_count": 20,
   "id": "799b7a7f",
   "metadata": {},
   "outputs": [],
   "source": [
    "# MV Weights\n",
    "#assets = ['BTC-USD', 'ETH-USD']\n",
    "#mvwtdf = pd.DataFrame(100*mv_weights, index=assets, columns=['wts'])\n",
    "#mvwtdf.iplot(kind='pie', showlegend=True, title='MV Weights')"
   ]
  },
  {
   "cell_type": "markdown",
   "id": "8874715f",
   "metadata": {},
   "source": [
    "# Efficient Frontier\n",
    "\n",
    "The Efficient Frontier is formed by a set of portfolios offering the highest expected portfolio return for a certain volatility or offering the lowest volatility for a certain level of expected returns. \n",
    "\n",
    "**`Minimize Portfolio Risk for a Target Return`:** \n",
    "\n",
    "* Risk objective and Return constraint\n",
    "\n",
    "$$\\underset{w_1,w_2,\\dots,w_n}{minimize} \\space\\space \\sigma^2_{p}(w_1,w_2,\\dots,w_n)$$\n",
    "\n",
    "subject to,\n",
    "\n",
    "$$E[R_p] = m$$\n",
    "\n",
    "\n",
    "**`Maximize Portfolio Return for a Target Risk`**:\n",
    "* Return objective and Risk constraint\n",
    "\n",
    "$$\\underset{w_1,w_2,\\dots,w_n}{maximize} \\space\\space E[R_p(w_1,w_2,\\dots,w_n)]$$\n",
    "\n",
    "subject to,\n",
    "\n",
    "$$\\sigma^2_{p}(w_1,w_2,\\dots,w_n)=v^2$$\n",
    "\n",
    "where, $\\sum_{i=1}^{n}w_i=1$, \n",
    "\n",
    "$m$ is the target return, and \n",
    "\n",
    "$v$ is the target volatility for the above objectives. \n",
    "\n",
    "We can use numerical optimization techniques such as quadratic programming to solve these problems. The goal is to find the optimal portfolio weights that minimize or maximize the objective function, while satisfying the specified constraints. These techniques allow us to compute the full efficient frontier by iterating across a range of return or risk levels."
   ]
  },
  {
   "cell_type": "code",
   "execution_count": 31,
   "id": "9ea36cfe",
   "metadata": {},
   "outputs": [],
   "source": [
    "# ---- 4. Efficient Frontier ----\n",
    "\n",
    "def efficient_frontier(mean_returns, cov_matrix, points=100):\n",
    "    \n",
    "    cov_matrix_np = cov_matrix.values\n",
    "    cov_matrix_psd = cp.psd_wrap(cov_matrix_np)  # Ensure PSD for CVXPY\n",
    "\n",
    "    target_returns = np.linspace(mean_returns.min(), mean_returns.max(), points)\n",
    "    frontier = []\n",
    "\n",
    "    for target in target_returns:\n",
    "        \n",
    "        w = cp.Variable(n)\n",
    "        w.value = np.random.rand(1535)\n",
    "        \n",
    "        port_risk = cp.quad_form(w, cov_matrix_psd)\n",
    "        \n",
    "        objective = cp.Minimize(port_risk)\n",
    "        constraints = [cp.sum(w) == 1, w >= 0, w @ mean_returns == target]\n",
    "         \n",
    "        prob = cp.Problem(objective, constraints)\n",
    "        prob.solve(solver=cp.SCS, verbose=True)\n",
    "        \n",
    "        if w.value is not None:\n",
    "            vol = np.sqrt(w.value.T @ cov_matrix @ w.value)\n",
    "            frontier.append((vol, target))\n",
    "            \n",
    "    return np.array(frontier)"
   ]
  },
  {
   "cell_type": "markdown",
   "id": "6cbf3a6a",
   "metadata": {},
   "source": [
    "**Plot Efficient Frontier**"
   ]
  },
  {
   "cell_type": "code",
   "execution_count": null,
   "id": "fbdd21e5",
   "metadata": {},
   "outputs": [],
   "source": [
    "# ---- Get Optimized Portfolio Statistics ----\n",
    "def get_stats(w):\n",
    "    ret = mean_returns @ w\n",
    "    vol = np.sqrt(w.T @ cov_matrix @ w)\n",
    "    return 100*ret, 100*vol\n",
    "\n",
    "msr_ret,msr_vol = get_stats(msr_weights)\n",
    "mv_ret, mv_vol = get_stats(mv_weights)\n",
    "mr_ret, mr_vol = get_stats(mr_weights)"
   ]
  },
  {
   "cell_type": "code",
   "execution_count": null,
   "id": "dd26f8ff",
   "metadata": {},
   "outputs": [],
   "source": [
    "#import cufflinks as cf\n",
    "#cf.go_offline() # enables offline mode for Plotly\n",
    "\n",
    "import plotly.graph_objects as go\n",
    "\n",
    "# ---- 5. Plot Efficient Frontier ----\n",
    "\n",
    "ef_curve = efficient_frontier(mean_returns, cov_matrix)\n",
    "ef_port = 100 * pd.DataFrame(ef_curve, columns=['Volatility', 'Return'])\n",
    "\n",
    "fig = ef_port.iplot(\n",
    "    kind='scatter',\n",
    "    x='Volatility', \n",
    "    y='Return', \n",
    "    title='Efficient Frontier Portfolio', \n",
    "    name='Efficient Frontier', \n",
    "    xaxis_title=\"Volatility (Risk)\", \n",
    "    yaxis_title=\"Expected Return\", \n",
    "    showlegend=True\n",
    "    ) \n",
    "\n",
    "print(\"fig:\", fig)  # Check if fig is None\n",
    "\n",
    "fig = go.Figure()\n",
    "\n",
    "fig.add_trace(go.Scatter(x=[msr_vol], y=[msr_ret], \n",
    "    marker=dict(size=10, color='green'), text=[\"Max Sharpe\"], name='Max Sharpe'))\n",
    "\n",
    "fig.add_trace(go.Scatter(x=[mv_vol], y=[mv_ret], \n",
    "        marker=dict(size=10, color='blue'), text=[\"Min Variance\"], name='Min Variance'))    "
   ]
  }
 ],
 "metadata": {
  "kernelspec": {
   "display_name": "Python 3",
   "language": "python",
   "name": "python3"
  },
  "language_info": {
   "codemirror_mode": {
    "name": "ipython",
    "version": 3
   },
   "file_extension": ".py",
   "mimetype": "text/x-python",
   "name": "python",
   "nbconvert_exporter": "python",
   "pygments_lexer": "ipython3",
   "version": "3.11.10"
  },
  "toc": {
   "base_numbering": 1,
   "nav_menu": {},
   "number_sections": true,
   "sideBar": true,
   "skip_h1_title": false,
   "title_cell": "Table of Contents",
   "title_sidebar": "Contents",
   "toc_cell": false,
   "toc_position": {
    "height": "calc(100% - 180px)",
    "left": "10px",
    "top": "150px",
    "width": "356.168488px"
   },
   "toc_section_display": true,
   "toc_window_display": false
  }
 },
 "nbformat": 4,
 "nbformat_minor": 5
}
