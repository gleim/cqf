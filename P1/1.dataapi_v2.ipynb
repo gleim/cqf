{
 "cells": [
  {
   "cell_type": "markdown",
   "id": "ef0a3942",
   "metadata": {},
   "source": [
    "# Financial Data Sources & APIs"
   ]
  },
  {
   "cell_type": "markdown",
   "id": "82776c35",
   "metadata": {},
   "source": [
    "A time series is essentially a sequence of data points arranged in chronological order. It’s like a story told over time, where each data point represents a snapshot at a specific moment. Time series data is indexed in time order, and examples include financial data such as equity prices, commodity prices, and forex rates, all of which are observed at regular time intervals.\n",
    "\n",
    "## Financial Data Preprocessing\n",
    "\n",
    "The first step in any data analysis is to parse the raw data. This involves extracting the data from the source, cleaning it up, and addressing any missing values. Financial data can come in many forms, but Python makes it easy to read and manipulate this data using powerful packages.\n",
    "\n",
    "In this session, we'll focus on how to retrieve and store time series data using some popular Python libraries. Specifically, we’ll work with end-of-day data, intraday data, and option chain data. Additionally, we’ll explore how to read time series data from traditional local sources like SQL databases."
   ]
  },
  {
   "cell_type": "markdown",
   "id": "940f83fe",
   "metadata": {},
   "source": [
    "**Import Libraries**"
   ]
  },
  {
   "cell_type": "code",
   "execution_count": 1,
   "id": "30f0ae1a",
   "metadata": {},
   "outputs": [],
   "source": [
    "# Import market data module from quantmod\n",
    "import pandas as pd\n",
    "from quantmod.markets import getData, getTicker"
   ]
  },
  {
   "cell_type": "markdown",
   "id": "10e413cd",
   "metadata": {},
   "source": [
    "## Stock Data Retrieval"
   ]
  },
  {
   "cell_type": "code",
   "execution_count": null,
   "id": "42b22eb1",
   "metadata": {},
   "outputs": [],
   "source": [
    "# Fetching data by specifying the number of periods\n",
    "df1 = getData(\"SBIN.NS\", period=\"5d\")\n",
    "df1"
   ]
  },
  {
   "cell_type": "code",
   "execution_count": null,
   "id": "2845f0cd",
   "metadata": {},
   "outputs": [],
   "source": [
    "# Fetch data by specifying start and end dates\n",
    "df2 = getData(\"SBIN.NS\", start_date=\"2025-01-01\", end_date=\"2025-01-10\")\n",
    "df2"
   ]
  },
  {
   "cell_type": "code",
   "execution_count": null,
   "id": "cfe8a0e5",
   "metadata": {},
   "outputs": [],
   "source": [
    "# Fetch data for year to date (YTD)\n",
    "df3 = getData(\"SBIN.NS\", period=\"ytd\")\n",
    "df3"
   ]
  },
  {
   "cell_type": "code",
   "execution_count": null,
   "id": "f79e7938",
   "metadata": {},
   "outputs": [],
   "source": [
    "# Fetch data for multiple stocks\n",
    "stocklist = [\"SBIN.NS\", \"ITC.NS\", \"INFY.NS\", \"RELIANCE.NS\", \"TITAN.NS\"]\n",
    "df4 = getData(stocklist, period=\"10d\")[\"Close\"]\n",
    "df4"
   ]
  },
  {
   "cell_type": "code",
   "execution_count": null,
   "id": "ee7d84cd",
   "metadata": {},
   "outputs": [],
   "source": [
    "# Fetch data for multiple stocks with multiple fields\n",
    "df5 = getData(stocklist, start_date=\"2025-01-01\", end_date=\"2025-01-10\")"
   ]
  },
  {
   "cell_type": "code",
   "execution_count": null,
   "id": "b733e589",
   "metadata": {},
   "outputs": [],
   "source": [
    "# Fetch intraday data for the last five days\n",
    "df6 = getData(\"SBIN.NS\", period=\"5d\", interval=\"5m\")\n",
    "df6"
   ]
  },
  {
   "cell_type": "markdown",
   "id": "1e9f8889",
   "metadata": {},
   "source": [
    "## Options Data Retrieval (Indian Example)"
   ]
  },
  {
   "cell_type": "markdown",
   "id": "6f398ea8",
   "metadata": {},
   "source": [
    "We will now fetch and analyze option chain data from the NSE using the quantmod library.\n",
    "\n",
    "The following example demonstrates how to use the `quantmod.derivatives` module to fetch option chain data for a given symbol and expiry. We will also calculate the Put-Call ratio, identify the maximum pain strike price, and access individual option quotes."
   ]
  },
  {
   "cell_type": "code",
   "execution_count": 7,
   "id": "813dc263",
   "metadata": {},
   "outputs": [],
   "source": [
    "# Import option module from quantmod\n",
    "from quantmod.derivatives import OptionData"
   ]
  },
  {
   "cell_type": "code",
   "execution_count": 8,
   "id": "b35b1796",
   "metadata": {},
   "outputs": [],
   "source": [
    "# Get option chain for specified expiry\n",
    "expiration = \"31-Jul-2025\"\n",
    "opt = OptionData(\"NIFTY\", expiration)"
   ]
  },
  {
   "cell_type": "code",
   "execution_count": null,
   "id": "994d54b0",
   "metadata": {},
   "outputs": [],
   "source": [
    "# Get maximum pain strike\n",
    "opt.get_maximum_pain_strike"
   ]
  },
  {
   "cell_type": "code",
   "execution_count": null,
   "id": "1225cb4c",
   "metadata": {},
   "outputs": [],
   "source": [
    "# Get put call ratio\n",
    "opt.get_put_call_ratio"
   ]
  },
  {
   "cell_type": "code",
   "execution_count": null,
   "id": "a101ad99",
   "metadata": {},
   "outputs": [],
   "source": [
    "# Get synthetic future price\n",
    "opt.get_synthetic_future_price(25300)"
   ]
  },
  {
   "cell_type": "code",
   "execution_count": null,
   "id": "1acc36df",
   "metadata": {},
   "outputs": [],
   "source": [
    "# Get option quote\n",
    "opt.get_option_quote(25300, 'CE', 'buy')"
   ]
  },
  {
   "cell_type": "code",
   "execution_count": 13,
   "id": "c62db317",
   "metadata": {},
   "outputs": [],
   "source": [
    "# Get call option data\n",
    "calls = opt.get_call_option_data"
   ]
  },
  {
   "cell_type": "code",
   "execution_count": null,
   "id": "cd65c9de",
   "metadata": {},
   "outputs": [],
   "source": [
    "# Filter call options by strike price range\n",
    "call_df = calls.query(\"strikePrice >= 25000 & strikePrice <= 25300\") \n",
    "call_df.head()"
   ]
  },
  {
   "cell_type": "markdown",
   "id": "1af36652",
   "metadata": {},
   "source": [
    "## Options Data Retrieval (US Example)"
   ]
  },
  {
   "cell_type": "markdown",
   "id": "eafc9a8e",
   "metadata": {},
   "source": [
    "We'll now retrieve option chain for SPY for July 2025 expiration from yahoo finance and filter the output to display the first seven columns."
   ]
  },
  {
   "cell_type": "code",
   "execution_count": null,
   "id": "292d7e42",
   "metadata": {},
   "outputs": [],
   "source": [
    "# Get Ticker object from quantmod\n",
    "spy = getTicker('SPY')\n",
    "spy.options[:5]"
   ]
  },
  {
   "cell_type": "code",
   "execution_count": null,
   "id": "8051c1a8",
   "metadata": {},
   "outputs": [],
   "source": [
    "# Get SPY option chain for July 31st expiration\n",
    "# https://finance.yahoo.com/quote/SPY250731C00620000/\n",
    "options = spy.option_chain('2025-07-31')\n",
    "options"
   ]
  },
  {
   "cell_type": "code",
   "execution_count": null,
   "id": "dcff8611",
   "metadata": {},
   "outputs": [],
   "source": [
    "# Filter calls for strike above 600\n",
    "df7 = options.calls[(options.calls['strike']>610) & (options.calls['strike']<630)]\n",
    "\n",
    "# Check the filtered output\n",
    "df7.iloc[:,:7]"
   ]
  },
  {
   "cell_type": "markdown",
   "id": "727823e0",
   "metadata": {},
   "source": [
    "## Data Storage & Analysis"
   ]
  },
  {
   "cell_type": "markdown",
   "id": "8983642c",
   "metadata": {},
   "source": [
    "Let's create a utility function to store market data for future use. First, we will retrieve a list of exchange tickers from Wikipedia to fetch the data iteratively. Next, we will create a database and a table to store the retrieved data. We'll use sqlite3 for this exercise and build a few functions to simplify data access. \n",
    "\n",
    "Refer [utils.py](../utils.py) for the utility functions."
   ]
  },
  {
   "cell_type": "markdown",
   "id": "55d7c6f0",
   "metadata": {},
   "source": [
    "## Data Wrangling"
   ]
  },
  {
   "cell_type": "code",
   "execution_count": 15,
   "id": "1cc28664",
   "metadata": {},
   "outputs": [],
   "source": [
    "# Imports functions from utils file\n",
    "import sys\n",
    "import os\n",
    "sys.path.append(os.path.abspath(\"..\"))\n",
    "\n",
    "from utils import (\n",
    "    create_table,\n",
    "    fetch_and_store_all,\n",
    "    query_stock\n",
    ")"
   ]
  },
  {
   "cell_type": "code",
   "execution_count": null,
   "id": "2f6505d4",
   "metadata": {},
   "outputs": [],
   "source": [
    "# ⚠️ Run this only once to create the table schema\n",
    "# create_table()"
   ]
  },
  {
   "cell_type": "code",
   "execution_count": null,
   "id": "7300b80e",
   "metadata": {},
   "outputs": [],
   "source": [
    "# ⚠️ Run this only once to fetch data and populate the database\n",
    "# fetch_and_store_all()"
   ]
  },
  {
   "cell_type": "code",
   "execution_count": null,
   "id": "f52f9764",
   "metadata": {},
   "outputs": [],
   "source": [
    "# Query the stock data\n",
    "df = query_stock(\"TITAN\")\n",
    "df.head()"
   ]
  },
  {
   "cell_type": "code",
   "execution_count": null,
   "id": "7efa661f",
   "metadata": {},
   "outputs": [],
   "source": [
    "# Column filter\n",
    "df.filter([\"close\"])  "
   ]
  },
  {
   "cell_type": "code",
   "execution_count": null,
   "id": "a58cd686",
   "metadata": {},
   "outputs": [],
   "source": [
    "# Row/index filter\n",
    "df.filter(like=\"2024-06-20\", axis=0)  "
   ]
  },
  {
   "cell_type": "code",
   "execution_count": null,
   "id": "054a0fc5",
   "metadata": {},
   "outputs": [],
   "source": [
    "# Conditional query\n",
    "df.query(\"close > 3500\")  "
   ]
  },
  {
   "cell_type": "code",
   "execution_count": null,
   "id": "96a2fc81",
   "metadata": {},
   "outputs": [],
   "source": [
    "# Close > Open\n",
    "df.query(\"close > open\")  "
   ]
  },
  {
   "cell_type": "code",
   "execution_count": null,
   "id": "9934c843",
   "metadata": {},
   "outputs": [],
   "source": [
    "# Volatility filter\n",
    "df.query(\"high - low > 150\")  "
   ]
  },
  {
   "cell_type": "code",
   "execution_count": null,
   "id": "a86df90b",
   "metadata": {},
   "outputs": [],
   "source": [
    "# Open equals low\n",
    "df.query(\"open == low\")  "
   ]
  },
  {
   "cell_type": "code",
   "execution_count": null,
   "id": "2f0b40f2",
   "metadata": {},
   "outputs": [],
   "source": [
    "# Combined conditions\n",
    "df.query(\"close > 3500 & high - low > 150\")  "
   ]
  },
  {
   "cell_type": "markdown",
   "id": "6262c6c2",
   "metadata": {},
   "source": [
    "## Data Resampling"
   ]
  },
  {
   "cell_type": "code",
   "execution_count": null,
   "id": "3fd4d787",
   "metadata": {},
   "outputs": [],
   "source": [
    "# Weekly resample (last value of week)\n",
    "df_weekly = df.resample(\"W\").last()\n",
    "df_weekly"
   ]
  },
  {
   "cell_type": "code",
   "execution_count": null,
   "id": "3ed8a1b9",
   "metadata": {},
   "outputs": [],
   "source": [
    "# Weekly resample ending on Thursday\n",
    "df_weekly_thu = df.resample(\"W-FRI\").last()\n",
    "df_weekly_thu"
   ]
  },
  {
   "cell_type": "code",
   "execution_count": null,
   "id": "6ee34be2",
   "metadata": {},
   "outputs": [],
   "source": [
    "# Monthly resample (end of month)\n",
    "df_monthly = df.resample(\"ME\").last()\n",
    "df_monthly"
   ]
  },
  {
   "cell_type": "markdown",
   "id": "606dcf6c",
   "metadata": {},
   "source": [
    "**Note:** Option and stock data are often available only through premium data providers that offer high-quality, reliable, and production-grade datasets. The Indian and US examples in this coursework use publicly available data from Yahoo Finance to demonstrate techniques for wrangling and analyzing market data using popular Python libraries. While suitable for educational and exploratory purposes, this data may include delays, omissions, or inconsistencies. You are encouraged to substitute these examples with datasets relevant to your own geography or market, especially when accuracy, completeness, or real-time access is critical."
   ]
  },
  {
   "cell_type": "markdown",
   "id": "8d8b9669",
   "metadata": {},
   "source": [
    "---\n",
    "[Kannan Singaravelu](https://www.linkedin.com/in/kannansi) | Refer [Quantmod](https://kannansingaravelu.com/quantmod/), [Pandas](https://pandas.pydata.org/docs/user_guide/index.html), [SQLite](https://www.sqlite.org/docs.html) and [SQLAlchemy](https://docs.sqlalchemy.org/en/20) for more information."
   ]
  }
 ],
 "metadata": {
  "kernelspec": {
   "display_name": "faip",
   "language": "python",
   "name": "python3"
  },
  "language_info": {
   "codemirror_mode": {
    "name": "ipython",
    "version": 3
   },
   "file_extension": ".py",
   "mimetype": "text/x-python",
   "name": "python",
   "nbconvert_exporter": "python",
   "pygments_lexer": "ipython3",
   "version": "3.10.18"
  },
  "toc": {
   "base_numbering": 1,
   "nav_menu": {},
   "number_sections": true,
   "sideBar": true,
   "skip_h1_title": false,
   "title_cell": "Table of Contents",
   "title_sidebar": "Contents",
   "toc_cell": false,
   "toc_position": {
    "height": "calc(100% - 180px)",
    "left": "10px",
    "top": "150px",
    "width": "356.168488px"
   },
   "toc_section_display": true,
   "toc_window_display": false
  }
 },
 "nbformat": 4,
 "nbformat_minor": 5
}
