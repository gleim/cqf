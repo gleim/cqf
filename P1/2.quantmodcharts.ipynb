{
 "cells": [
  {
   "cell_type": "markdown",
   "id": "2553153d",
   "metadata": {},
   "source": [
    "# Interactive Data Visualization"
   ]
  },
  {
   "cell_type": "markdown",
   "id": "57406714",
   "metadata": {},
   "source": [
    "Interactive charting in Python enables the creation of dynamic, responsive visualizations that significantly enhance data exploration and presentation. These tools are particularly valuable for dashboards, data analysis platforms, and web applications, offering a more engaging and insightful experience than static charts.\n",
    "\n",
    "## Introduction to Quantmod Charting\n",
    "\n",
    "Quantmod Charting is a lightweight, high-level wrapper that combines the power of Plotly with the flexibility of Pandas. It enables users to create clean, interactive plots with minimal code.\n",
    "\n",
    "As one of the most feature-rich Plotly wrappers available, Quantmod Charting seamlessly integrates into the Pandas ecosystem. Once you import `quantmod.charting`, all Pandas DataFrame and Series objects gain access to a new method: `.iplot()`. This method functions similarly to Pandas’ built-in `.plot()` but with interactive Plotly outputs.\n",
    "\n",
    "Quantmod Charting is an ideal starting point for generating common visualizations quickly and efficiently. It features a consistent, intuitive API, making it easy to switch between chart types during data exploration and analysis."
   ]
  },
  {
   "cell_type": "code",
   "execution_count": 2,
   "id": "6657b1e7",
   "metadata": {},
   "outputs": [],
   "source": [
    "# Import libraries\n",
    "import sys\n",
    "import os\n",
    "sys.path.append(os.path.abspath(\"..\"))\n",
    "\n",
    "import pandas as pd\n",
    "from utils import query_all_stocks, query_stock\n",
    "\n",
    "import quantmod.charts \n",
    "from quantmod.timeseries.performance import dailyReturn, volatility"
   ]
  },
  {
   "cell_type": "code",
   "execution_count": 2,
   "id": "bd8d2398",
   "metadata": {},
   "outputs": [],
   "source": [
    "# Query data for multiple stocks\n",
    "df = query_all_stocks()\n",
    "\n",
    "# Query data for single stock\n",
    "df1 = query_stock(\"TITAN\")\n",
    "\n",
    "# Calculate daily returns\n",
    "daily_returns = dailyReturn(df)\n",
    "\n",
    "# Calculate Statistics\n",
    "ret = daily_returns.mean() * 252 * 100\n",
    "vol = volatility(daily_returns) * 100\n",
    "stats = pd.DataFrame({\"AnnRet\": ret, \"AnnVol\": vol})"
   ]
  },
  {
   "cell_type": "markdown",
   "id": "e08e075c",
   "metadata": {},
   "source": [
    "## Line Chart"
   ]
  },
  {
   "cell_type": "code",
   "execution_count": null,
   "id": "d70c319f",
   "metadata": {},
   "outputs": [],
   "source": [
    "# Line Chart\n",
    "df.iplot(kind=\"line\", y=\"ITC\", color='cornflowerblue')"
   ]
  },
  {
   "cell_type": "markdown",
   "id": "3e81f976",
   "metadata": {},
   "source": [
    "## Scatter Plot"
   ]
  },
  {
   "cell_type": "code",
   "execution_count": null,
   "id": "c16392be",
   "metadata": {},
   "outputs": [],
   "source": [
    "# Scatter Plot\n",
    "daily_returns.iplot(kind=\"scatter\", x=\"ICICIBANK\", y=\"ITC\", title=\"Scatter Plot\")"
   ]
  },
  {
   "cell_type": "markdown",
   "id": "5cc6e3a5",
   "metadata": {},
   "source": [
    "## OHCL Chart"
   ]
  },
  {
   "cell_type": "code",
   "execution_count": null,
   "id": "d47f3bc9",
   "metadata": {},
   "outputs": [],
   "source": [
    "# OHLC Plot\n",
    "df1[:30].iplot(kind=\"ohlc\", title=\"OHLC Chart\")"
   ]
  },
  {
   "cell_type": "markdown",
   "id": "7eb358cb",
   "metadata": {},
   "source": [
    "## Candlestick Chart"
   ]
  },
  {
   "cell_type": "code",
   "execution_count": null,
   "id": "bfdda1b0",
   "metadata": {},
   "outputs": [],
   "source": [
    "# Candlestick Plot\n",
    "df1[:30].iplot(kind=\"candlestick\", title=\"Candle Chart\")"
   ]
  },
  {
   "cell_type": "markdown",
   "id": "3533cd3b",
   "metadata": {},
   "source": [
    "## Overlay Charts"
   ]
  },
  {
   "cell_type": "code",
   "execution_count": null,
   "id": "fb41a1d1",
   "metadata": {},
   "outputs": [],
   "source": [
    "# Overlay Chart\n",
    "df[[\"ICICIBANK\", \"ITC\"]].iplot(kind=\"overlay\", secondary_y=\"ICICIBANK\", title=\"ICICIBANK & ITC Overlay Chart\")"
   ]
  },
  {
   "cell_type": "markdown",
   "id": "c86480ea",
   "metadata": {},
   "source": [
    "## Subplots"
   ]
  },
  {
   "cell_type": "code",
   "execution_count": null,
   "id": "614075da",
   "metadata": {},
   "outputs": [],
   "source": [
    "# Subplots\n",
    "df[['ITC', 'ICICIBANK']].iplot(kind=\"subplots\", showlegend=True, title=\" ITC & ICICBank Subplots\")"
   ]
  },
  {
   "cell_type": "markdown",
   "id": "ff9cbec9",
   "metadata": {},
   "source": [
    "## Subplots for multiple stocks"
   ]
  },
  {
   "cell_type": "code",
   "execution_count": null,
   "id": "eff1e208",
   "metadata": {},
   "outputs": [],
   "source": [
    "# Subplots for multiple stocks\n",
    "daily_returns.iloc[:,:4].iplot(kind=\"subplots\", showlegend=True, title=\"Stock Returns\")"
   ]
  },
  {
   "cell_type": "markdown",
   "id": "b0a7db12",
   "metadata": {},
   "source": [
    "## Normalized Plots"
   ]
  },
  {
   "cell_type": "code",
   "execution_count": null,
   "id": "a4f4f26f",
   "metadata": {},
   "outputs": [],
   "source": [
    "# Normalised Plot\n",
    "df.iplot(kind=\"normalized\", title=\"Normalized Prices\")"
   ]
  },
  {
   "cell_type": "markdown",
   "id": "8d8313f1",
   "metadata": {},
   "source": [
    "## Histogram"
   ]
  },
  {
   "cell_type": "code",
   "execution_count": null,
   "id": "40010d97",
   "metadata": {},
   "outputs": [],
   "source": [
    "# Histogram \n",
    "daily_returns.iplot(kind=\"histogram\")"
   ]
  },
  {
   "cell_type": "markdown",
   "id": "8759e533",
   "metadata": {},
   "source": [
    "## Histogram without overlap"
   ]
  },
  {
   "cell_type": "code",
   "execution_count": null,
   "id": "16be313b",
   "metadata": {},
   "outputs": [],
   "source": [
    "# Histogram without overlap\n",
    "daily_returns.iloc[:,:4].iplot(kind=\"histogram\", overlap=False, showlegend=True)"
   ]
  },
  {
   "cell_type": "markdown",
   "id": "d54f6218",
   "metadata": {},
   "source": [
    "## Box Plot"
   ]
  },
  {
   "cell_type": "code",
   "execution_count": null,
   "id": "c6dd529e",
   "metadata": {},
   "outputs": [],
   "source": [
    "# Box Plot\n",
    "daily_returns.iplot(kind=\"box\", showlegend=False, title=\"Box Plot Analysis\")"
   ]
  },
  {
   "cell_type": "markdown",
   "id": "ce43ed7d",
   "metadata": {},
   "source": [
    "## Bar Chart"
   ]
  },
  {
   "cell_type": "code",
   "execution_count": null,
   "id": "c302f33e",
   "metadata": {},
   "outputs": [],
   "source": [
    "# Bar Chart\n",
    "stats.iplot(kind=\"bar\", showlegend=True, title=\"Annualised Return & Volatility\")"
   ]
  },
  {
   "cell_type": "markdown",
   "id": "a1b4541a",
   "metadata": {},
   "source": [
    "## Pie Chart"
   ]
  },
  {
   "cell_type": "code",
   "execution_count": null,
   "id": "6f0d4bd1",
   "metadata": {},
   "outputs": [],
   "source": [
    "# Pie Chart \n",
    "ret.to_frame(name=\"AnnRet\").iplot(kind='pie', top_n=15, threshold=0.04)"
   ]
  },
  {
   "cell_type": "markdown",
   "id": "4f933094",
   "metadata": {},
   "source": [
    "## Heatmap"
   ]
  },
  {
   "cell_type": "code",
   "execution_count": null,
   "id": "32a65e2c",
   "metadata": {},
   "outputs": [],
   "source": [
    "# Heatmap\n",
    "corrmatrix = daily_returns.corr()\n",
    "corrmatrix.iplot(kind=\"heatmap\", colorscale=\"Jet\", title=\"Correlation Plot\")"
   ]
  },
  {
   "cell_type": "markdown",
   "id": "516003f3",
   "metadata": {},
   "source": [
    "## Treemap"
   ]
  },
  {
   "cell_type": "code",
   "execution_count": null,
   "id": "6f0d4bd1",
   "metadata": {},
   "outputs": [],
   "source": [
    "# Treemap\n",
    "ret.to_frame('AnnRet').iplot(\n",
    "    kind=\"treemap\",\n",
    "    labels=stats.index,\n",
    "    parents=[\"\"] * len(stats),\n",
    "    values=\"AnnRet\",\n",
    "    title=\"Treemap of Annualised Returns\",\n",
    ")"
   ]
  },
  {
   "cell_type": "markdown",
   "id": "fa270ae6",
   "metadata": {},
   "source": [
    "---\n",
    "[Kannan Singaravelu](https://www.linkedin.com/in/kannansi) | Refer [Quantmod](https://kannansingaravelu.com/quantmod/) and [Plotly](https://plotly.com/python/) for more information."
   ]
  }
 ],
 "metadata": {
  "kernelspec": {
   "display_name": "faip",
   "language": "python",
   "name": "python3"
  },
  "language_info": {
   "codemirror_mode": {
    "name": "ipython",
    "version": 3
   },
   "file_extension": ".py",
   "mimetype": "text/x-python",
   "name": "python",
   "nbconvert_exporter": "python",
   "pygments_lexer": "ipython3",
   "version": "3.10.18"
  }
 },
 "nbformat": 4,
 "nbformat_minor": 5
}
