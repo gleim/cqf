{
 "cells": [
  {
   "cell_type": "markdown",
   "metadata": {
    "slideshow": {
     "slide_type": "slide"
    }
   },
   "source": [
    "# Binomial Tree Method\n",
    "\n",
    "The Binomial Tree Model, introduced by Cox, Ross, and Rubinstein in 1979, is a foundational method for option pricing. It offers a discrete-time framework to model the evolution of an asset’s price over time, making it especially useful for valuing both European and American-style options.\n",
    "\n",
    "In this model, at each time step, the underlying asset price can either move up by a factor $u$ or move down by a factor $v$, creating a branching structure that represents all possible future price paths.\n",
    "\n",
    "Starting from an initial price $S_0$, after one time step the asset can take on one of two values:\n",
    "\n",
    "* $S_0 * u$ (up-move)\n",
    "\n",
    "* $S_0 * v$ (down-move)\n",
    "\n",
    "This process continues at each subsequent time step. After two steps, for example, the asset may reach:\n",
    "\n",
    "* $S_0 * u²$ (two up-moves)\n",
    "\n",
    "* $S_0 * uv$ (one up and one down, in any order)\n",
    "\n",
    "* $S_0 * v²$ (two down-moves)\n",
    "\n",
    "As the number of time steps increases, a tree-like structure forms, where each node represents a possible asset price at a given point in time, and each node branches into two future possibilities. This binomial tree provides an intuitive and flexible way to simulate price evolution across multiple periods.\n",
    "\n",
    "The strength of the binomial model lies in its adaptability. It incorporates key variables such as time to maturity, volatility, interest rates, and early exercise features. The model calculates the option’s value by working backward from the expiration date to the present, determining the option price at each node based on expected future values and risk-neutral probabilities.\n",
    "\n",
    "This backward induction approach is particularly useful for pricing American options, where the option holder has the right to exercise the option before expiration. The model evaluates whether early exercise is optimal at each node, making it an effective tool for accurately capturing the value of complex derivative products."
   ]
  },
  {
   "cell_type": "markdown",
   "metadata": {
    "slideshow": {
     "slide_type": "slide"
    }
   },
   "source": [
    "**Import Libraries**\n",
    "\n",
    "We'll import the required libraries that we'll use in this example."
   ]
  },
  {
   "cell_type": "code",
   "execution_count": 1,
   "metadata": {},
   "outputs": [],
   "source": [
    "import numpy as np\n",
    "from numpy import zeros, maximum, power, sqrt, around"
   ]
  },
  {
   "cell_type": "markdown",
   "metadata": {},
   "source": [
    "**Risk Neutral Probability**\n",
    "\n",
    "Risk-neutral measure is a probability measure such that each share price today is the discounted expectations of the share price. From Paul's lecture, we know the formula for $u$, $v$, $p\\space'$ and $V$ are as follows, \n",
    "\n",
    "$ u = 1+ {\\sigma\\sqrt{\\delta t}} $\n",
    "\n",
    "$ v = 1- {\\sigma\\sqrt{\\delta t}} $\n",
    "\n",
    "The underlying instrument will move up or down by a specific factor $u$ or $v$ per step of the tree where $u$ $\\geq$ 1 and 0 $<$ $v$ $\\leq$ 1. \n",
    "\n",
    "$ p\\space' = \\frac{1}{2} + \\frac{r \\sqrt\\delta t}{2\\sigma} $\n",
    "\n",
    "where, $p\\space'$ the risk-neutral probability.\n",
    "\n",
    "$ V = \\frac{1}{1+r\\delta t}\\space (p\\space' V^{+} + (1-p\\space')V^{-}) $\n",
    "\n",
    "where, $V$ is the option value which is present value of some expectation : sum probabilities multiplied by events. "
   ]
  },
  {
   "cell_type": "markdown",
   "metadata": {},
   "source": [
    "## Building Binomial Tree\n",
    "\n",
    "Next, we will build a binomial tree using the risk neutral probability. Building a tree is a multi step process which involves.\n",
    "\n",
    "**Step 1**: Draw a n-step tree\n",
    "\n",
    "**Step 2**: At the end of n-step, estimate terminal prices\n",
    "\n",
    "**Step 3**: Calculate the option value at each node based on the terminal price, exercise price and type\n",
    "\n",
    "**Step 4**: Discount it back one step, that is, from n to n-1, according to the risk neutral probability\n",
    "\n",
    "**Step 5**: Repeat the previous step until we find the final value at step 0"
   ]
  },
  {
   "cell_type": "markdown",
   "metadata": {},
   "source": [
    "### Binomial Pricing Model\n",
    "Let's now define a binomial option pricing class. "
   ]
  },
  {
   "cell_type": "code",
   "execution_count": 2,
   "metadata": {
    "editable": true,
    "slideshow": {
     "slide_type": ""
    },
    "tags": []
   },
   "outputs": [],
   "source": [
    "# Create a user defined function\n",
    "def binomial_option(spot: float, strike: float, rate: float, sigma: float, time: float, steps: int, output: int=0) -> np.ndarray:\n",
    "    \n",
    "    \"\"\"\n",
    "    binomial_option(spot, strike, rate, sigma, time, steps, output=0)\n",
    "    Function for building binomial option tree for european call option payoff\n",
    "    \n",
    "    Params\n",
    "    ------\n",
    "    spot        int or float     - spot price\n",
    "    strike      int or float     - strike price\n",
    "    rate        float            - interest rate\n",
    "    sigma       float            - volatility\n",
    "    time        int or float     - expiration time\n",
    "    steps       int              - number of trees\n",
    "    output      int              - [0: price, 1: payoff, 2: option value, 3: option delta]\n",
    "    \n",
    "    Returns\n",
    "    -------\n",
    "    out:        ndarray\n",
    "    An array object of price, payoff, option value and delta specified by the output parameter\n",
    "    \n",
    "    \"\"\"\n",
    "    \n",
    "    # params\n",
    "    dt = time/steps\n",
    "    u = 1+sigma*sqrt(dt)\n",
    "    d = 1-sigma*sqrt(dt) # v\n",
    "    p = 0.5+rate*sqrt(dt)/(2*sigma)\n",
    "    df = 1/(1+rate*dt)\n",
    "\n",
    "    # initialize arrays\n",
    "    px = zeros((steps+1, steps+1))\n",
    "    cp = zeros((steps+1, steps+1))\n",
    "    V = zeros((steps+1, steps+1))\n",
    "    delta = zeros((steps+1, steps+1))\n",
    "    \n",
    "    # binomial loop\n",
    "    # forward loop\n",
    "    for j in range(steps+1):\n",
    "        for i in range(j+1):\n",
    "            px[i,j] = spot * power(u, j-i) * power(d, i)\n",
    "            cp[i,j] = maximum(px[i,j] - strike, 0)\n",
    " \n",
    "    # reverse loop\n",
    "    for j in range(steps, -1, -1):\n",
    "        for i in range(j+1):\n",
    "            if j == steps:\n",
    "                V[i,j] = cp[i,j]\n",
    "                delta[i,j] = 1 if px[i,j] >= strike else 0\n",
    "            else:\n",
    "                V[i,j] = df * (p * V[i,j+1] + (1-p) * V[i+1,j+1])\n",
    "                delta[i,j] = (V[i,j+1] - V[i+1,j+1]) / (px[i,j+1] - px[i+1,j+1])\n",
    "    \n",
    "    results = (around(px,2), around(cp,2), around(V,2), around(delta, 4))\n",
    "    \n",
    "    return results[output]\n",
    "        "
   ]
  },
  {
   "cell_type": "markdown",
   "metadata": {},
   "source": [
    "**Asset Price Matrix**"
   ]
  },
  {
   "cell_type": "code",
   "execution_count": null,
   "metadata": {},
   "outputs": [],
   "source": [
    "# Asset price\n",
    "px = binomial_option(100,100,0.05,0.2,1,4,output=0)\n",
    "px"
   ]
  },
  {
   "cell_type": "markdown",
   "metadata": {},
   "source": [
    "**Payoff Matrix**"
   ]
  },
  {
   "cell_type": "code",
   "execution_count": null,
   "metadata": {},
   "outputs": [],
   "source": [
    "# Intrinsic value of call options\n",
    "cp = binomial_option(100,100,0.05,0.2,1,4,output=1)\n",
    "cp"
   ]
  },
  {
   "cell_type": "markdown",
   "metadata": {},
   "source": [
    "**Option Price Matrix**"
   ]
  },
  {
   "cell_type": "code",
   "execution_count": null,
   "metadata": {},
   "outputs": [],
   "source": [
    "# Option price \n",
    "opx = binomial_option(100,100,0.05,0.2,1,4,output=2)\n",
    "opx"
   ]
  },
  {
   "cell_type": "markdown",
   "metadata": {},
   "source": [
    "**Option Delta Matrix**"
   ]
  },
  {
   "cell_type": "code",
   "execution_count": null,
   "metadata": {},
   "outputs": [],
   "source": [
    "# Option delta\n",
    "d = binomial_option(100,100,0.05,0.2,1,4,output=3)\n",
    "d"
   ]
  },
  {
   "cell_type": "markdown",
   "metadata": {},
   "source": [
    "**Binominal Option Pricing**"
   ]
  },
  {
   "cell_type": "code",
   "execution_count": null,
   "metadata": {},
   "outputs": [],
   "source": [
    "# Binomial Option Price\n",
    "print(f\"European Call Option Price using Binomial Tree Method: {opx[0,0]:.2f}\")"
   ]
  },
  {
   "cell_type": "markdown",
   "metadata": {},
   "source": [
    "## Quantmod Option Module\n",
    "\n",
    "The quantmod option module offers a versatile and comprehensive toolkit for valuing a wide range of financial derivatives. It includes multiple pricing models implemented in Python such as Black-Scholes, Binomial, and Monte Carlo methods, enabling accurate computation of theoretical prices for European, American, and exotic options, including Asian and barrier options.\n",
    "\n",
    "Built with a clean, object-oriented architecture and leveraging Pydantic for smart function calling and input validation, the module allows users to easily specify input parameters, configure model-specific settings like time steps or simulation paths, handle early exercise features, and generate precise valuations all through a unified and intuitive Python API.\n",
    "\n",
    "Its flexible design makes it ideal for creating intelligent option agents and building custom MCP servers by harnessing the power of function calling.\n",
    "\n",
    "Key Features:\n",
    "\n",
    "* OptionInputs: A structured class to standardize and validate input parameters.\n",
    "\n",
    "* BlackScholesOptionPricing: Implements the Black-Scholes model for pricing options and calculating Greeks.\n",
    "\n",
    "* BinomialOptionPricing: Prices options using the binomial tree method, including support for early exercise.\n",
    "\n",
    "* MonteCarloOptionPricing: Uses Monte Carlo simulation to price European, Asian, and barrier options."
   ]
  },
  {
   "cell_type": "markdown",
   "metadata": {},
   "source": [
    "Let's now price the option and print the tree."
   ]
  },
  {
   "cell_type": "code",
   "execution_count": 8,
   "metadata": {},
   "outputs": [],
   "source": [
    "# Import Quantmod Option Module\n",
    "from quantmod.models import OptionInputs, OptionType, ExerciseStyle, BinomialOptionPricing"
   ]
  },
  {
   "cell_type": "code",
   "execution_count": 9,
   "metadata": {},
   "outputs": [],
   "source": [
    "# Define input parameters\n",
    "inputs=OptionInputs(\n",
    "    spot=100,\n",
    "    strike=100,\n",
    "    ttm=1,\n",
    "    rate=0.05,\n",
    "    volatility=0.2\n",
    "    )\n",
    "\n",
    "# Instantiate the BinomialOptionPricing Engine\n",
    "binomial = BinomialOptionPricing(\n",
    "    inputs=inputs,\n",
    "    nsteps=4,\n",
    "    option_type=OptionType.PUT,\n",
    "    exercise_style=ExerciseStyle.EUROPEAN,\n",
    "    output=\"value\",\n",
    ")"
   ]
  },
  {
   "cell_type": "code",
   "execution_count": null,
   "metadata": {},
   "outputs": [],
   "source": [
    "# Print the tree values\n",
    "print(f\"\\nOption {binomial.output} tree:\")\n",
    "print(binomial.binomialoption)"
   ]
  },
  {
   "cell_type": "code",
   "execution_count": null,
   "metadata": {},
   "outputs": [],
   "source": [
    "# Plot the tree\n",
    "print(\"\\n\\nPlot the tree:\")\n",
    "binomial.plot_tree()"
   ]
  },
  {
   "cell_type": "code",
   "execution_count": null,
   "metadata": {},
   "outputs": [],
   "source": [
    "# Binomial Option Price\n",
    "print(f\"American Put Option Price using Binomial Tree Method: {binomial.value[0,0]:.2f}\")"
   ]
  },
  {
   "cell_type": "markdown",
   "metadata": {},
   "source": [
    "---\n",
    "[Kannan Singaravelu](https://www.linkedin.com/in/kannansi) | Refer [Quantmod](https://kannansingaravelu.com/quantmod/) and [Numpy](https://docs.scipy.org/doc/numpy/) for more information."
   ]
  }
 ],
 "metadata": {
  "kernelspec": {
   "display_name": "faip",
   "language": "python",
   "name": "python3"
  },
  "language_info": {
   "codemirror_mode": {
    "name": "ipython",
    "version": 3
   },
   "file_extension": ".py",
   "mimetype": "text/x-python",
   "name": "python",
   "nbconvert_exporter": "python",
   "pygments_lexer": "ipython3",
   "version": "3.10.18"
  },
  "latex_envs": {
   "LaTeX_envs_menu_present": true,
   "autoclose": false,
   "autocomplete": true,
   "bibliofile": "biblio.bib",
   "cite_by": "apalike",
   "current_citInitial": 1,
   "eqLabelWithNumbers": true,
   "eqNumInitial": 1,
   "hotkeys": {
    "equation": "Ctrl-E",
    "itemize": "Ctrl-I"
   },
   "labels_anchors": false,
   "latex_user_defs": false,
   "report_style_numbering": false,
   "user_envs_cfg": false
  },
  "nbTranslate": {
   "displayLangs": [
    "*"
   ],
   "hotkey": "alt-t",
   "langInMainMenu": true,
   "sourceLang": "en",
   "targetLang": "fr",
   "useGoogleTranslate": true
  },
  "toc": {
   "base_numbering": 1,
   "nav_menu": {},
   "number_sections": true,
   "sideBar": true,
   "skip_h1_title": true,
   "title_cell": "Table of Contents",
   "title_sidebar": "Contents",
   "toc_cell": false,
   "toc_position": {
    "height": "calc(100% - 180px)",
    "left": "10px",
    "top": "150px",
    "width": "374.59375px"
   },
   "toc_section_display": true,
   "toc_window_display": false
  },
  "varInspector": {
   "cols": {
    "lenName": 16,
    "lenType": 16,
    "lenVar": 40
   },
   "kernels_config": {
    "python": {
     "delete_cmd_postfix": "",
     "delete_cmd_prefix": "del ",
     "library": "var_list.py",
     "varRefreshCmd": "print(var_dic_list())"
    },
    "r": {
     "delete_cmd_postfix": ") ",
     "delete_cmd_prefix": "rm(",
     "library": "var_list.r",
     "varRefreshCmd": "cat(var_dic_list()) "
    }
   },
   "types_to_exclude": [
    "module",
    "function",
    "builtin_function_or_method",
    "instance",
    "_Feature"
   ],
   "window_display": false
  }
 },
 "nbformat": 4,
 "nbformat_minor": 4
}
