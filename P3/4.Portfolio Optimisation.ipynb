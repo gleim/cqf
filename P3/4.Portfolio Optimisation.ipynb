{
 "cells": [
  {
   "cell_type": "markdown",
   "id": "2553153d",
   "metadata": {},
   "source": [
    "# Portfolio Optimisation"
   ]
  },
  {
   "cell_type": "markdown",
   "id": "57406714",
   "metadata": {},
   "source": [
    "Portfolio optimization is the process of choosing the best combination of assets to achieve the highest possible return for a given level of risk, or alternatively, the lowest risk for a desired return.  The goal is to build a well-diversified portfolio that performs efficiently under various market conditions.\n",
    "\n",
    "## Modern Portfolio Theory\n",
    "\n",
    "\n",
    "Modern Portfolio Theory (MPT), also known as Mean-Variance Portfolio Theory, represents a major breakthrough in finance. It is based on the premise that asset returns are normally distributed, meaning that their behavior can be described using just the mean (expected return) and variance (risk or volatility).\n",
    "\n",
    "The core idea of MPT is to achieve diversification by constructing a portfolio that either minimizes risk for a given level of expected return or maximizes expected return for a given level of risk.\n",
    "\n",
    "The Efficient Frontier represents the set of optimal portfolios along the risk-return spectrum. Portfolios that lie below the Efficient Frontier are considered sub-optimal, as they offer lower returns for a given level of risk or higher risk for a given level of return.\n",
    "\n",
    "**Portfolios on the Efficient Frontier provide:**\n",
    "\n",
    "a. The highest expected return for a given level of risk`, or\n",
    "\n",
    "b. The lowest level of risk for a given level of expected return`\n",
    "\n",
    "In essence, an investor's goal is to determine the level of risk they are comfortable with, and then select a portfolio on the Efficient Frontier that offers the best possible return for that risk level. "
   ]
  },
  {
   "cell_type": "markdown",
   "id": "ae0c9368",
   "metadata": {},
   "source": [
    "**Import Libraries**"
   ]
  },
  {
   "cell_type": "code",
   "execution_count": null,
   "id": "6657b1e7",
   "metadata": {},
   "outputs": [],
   "source": [
    "# Import libraries\n",
    "import sys\n",
    "import os\n",
    "sys.path.append(os.path.abspath(\"..\"))\n",
    "\n",
    "import numpy as np\n",
    "import pandas as pd\n",
    "import cvxpy as cp\n",
    "\n",
    "import quantmod.charts\n",
    "import plotly.graph_objects as go\n",
    "\n",
    "from utils import query_all_stocks"
   ]
  },
  {
   "cell_type": "markdown",
   "id": "57adddc2",
   "metadata": {},
   "source": [
    "## Data Retrieval\n",
    "\n",
    "We will retrieve price data for selected stocks from our database to build our portfolio."
   ]
  },
  {
   "cell_type": "code",
   "execution_count": null,
   "id": "bd8d2398",
   "metadata": {},
   "outputs": [],
   "source": [
    "# Query stock data for all 49 stocks\n",
    "df = query_all_stocks()\n",
    "assets = sorted(['ICICIBANK', 'ITC', 'RELIANCE', 'TCS', 'ASIANPAINT'])\n",
    "df = df[assets]\n",
    "df.head()"
   ]
  },
  {
   "cell_type": "code",
   "execution_count": null,
   "id": "04aa950a",
   "metadata": {},
   "outputs": [],
   "source": [
    "# Visualise stock data\n",
    "df.iplot(kind='normalized', showlegend=True)"
   ]
  },
  {
   "cell_type": "code",
   "execution_count": null,
   "id": "0f015850",
   "metadata": {},
   "outputs": [],
   "source": [
    "# Dataframe of returns and volatility\n",
    "returns = df.pct_change().dropna()\n",
    "annual_returns = round(returns.mean()*260*100,2)\n",
    "annual_stdev = round(returns.std()*np.sqrt(260)*100,2)\n",
    "\n",
    "# Subsume into dataframe\n",
    "stats = pd.DataFrame({\n",
    "    'Ann Ret': annual_returns,\n",
    "    'Ann Vol': annual_stdev\n",
    "})\n",
    "\n",
    "# Get the output\n",
    "stats.head()"
   ]
  },
  {
   "cell_type": "code",
   "execution_count": null,
   "id": "c4449623",
   "metadata": {},
   "outputs": [],
   "source": [
    "# Plot annualized return and volatility\n",
    "stats.iplot(kind='bar', title='Annualized Return & Volatility (%)', showlegend=True)"
   ]
  },
  {
   "cell_type": "markdown",
   "id": "af3f2b90",
   "metadata": {},
   "source": [
    "**Portfolio Composition before Optimization**"
   ]
  },
  {
   "cell_type": "code",
   "execution_count": null,
   "id": "ab3a2224",
   "metadata": {},
   "outputs": [],
   "source": [
    "# Update quantmod to latest version\n",
    "# Portfolio composition\n",
    "stats['Ann Vol'].iplot(kind='pie', showlegend=True, title='Annualised Volatility')"
   ]
  },
  {
   "cell_type": "markdown",
   "id": "acb64919",
   "metadata": {},
   "source": [
    "## Portfolio Statistics\n",
    "\n",
    "Consider a portfolio which is fully invested in risky assets. Let $w$ and $\\mu$ be the vector of weights and mean returns of *n* assets. <br><br>\n",
    "\n",
    "$$\n",
    "\\ {w=}\\left( \n",
    "\\begin{array}{c}\n",
    "w_1 \\\\\n",
    "w_2 \\\\\n",
    "\\vdots \\\\\n",
    "w_n \\\\ \n",
    "\\end{array}%\n",
    "\\right);\n",
    "\\ \\mathbf{\\mu=}\\left( \n",
    "\\begin{array}{ccc}\n",
    "\\mu_1 \\\\ \n",
    "\\mu_2 \\\\ \n",
    "\\vdots \\\\\n",
    "\\mu_n \\\\ \n",
    "\\end{array}%\n",
    "\\right)\n",
    "$$ \n",
    "\n",
    "where the $\\sum_{i=1}^{n}w_i=1$\n",
    "\n",
    "**`Expected Portfolio Return`** is then the dot product of the expected returns and their weights. <br><br>\n",
    "\n",
    "$$\\mu_\\pi = w^T\\cdot\\mu$$\n",
    "\n",
    "which is also equivalent to the $\\Sigma_{i=1}^{n}w_i\\mu_i$\n",
    "\n",
    "\n",
    "**`Expected Portfolio Variance`** is then the multidot product of weights and the covariance matrix. <br><br>\n",
    "\n",
    "$$\\sigma^2_\\pi = w^T\\cdot\\Sigma\\cdot w $$\n",
    "\n",
    "where, ${\\Sigma}$ is the covariance matrix\n",
    "\n",
    "$$\n",
    "{\\Sigma=}\\left( \n",
    "\\begin{array}{ccc}\n",
    "\\Sigma_{1,1} & \\dots & \\Sigma_{1,n} \\\\ \n",
    "\\vdots & \\ddots & \\vdots  \\\\ \n",
    "\\Sigma_{n,1} & \\dots & \\Sigma_{n,n} \\\\ %\n",
    "\\end{array}%\n",
    "\\right)\n",
    "$$"
   ]
  },
  {
   "cell_type": "code",
   "execution_count": null,
   "id": "2701a4ad",
   "metadata": {},
   "outputs": [],
   "source": [
    "# Compute statistics\n",
    "mean_returns = (returns.mean()*260).values\n",
    "cov_matrix = (returns.cov() * 260).values\n",
    "n = len(mean_returns) "
   ]
  },
  {
   "cell_type": "markdown",
   "id": "b0785656",
   "metadata": {},
   "source": [
    "**Maximum Sharpe Ratio Portfolio**\n",
    "\n",
    "CVXPY is designed specifically for convex optimization, while the original Sharpe ratio maximization problem is non-convex due to its fractional (ratio) form.\n",
    "\n",
    "To address this, we apply a mathematical transformation. We set the portfolio excess return equal to 1 and then find the portfolio that achieves exactly 1 unit of excess return with minimum risk. This works due to the homogeneity of the Sharpe ratio. If a set of portfolio weights $w^{*}$ maximizes the Sharpe ratio, then any scaled version $k * w^{*}$ also achieves the same Sharpe ratio."
   ]
  },
  {
   "cell_type": "code",
   "execution_count": null,
   "id": "0f7607e5",
   "metadata": {},
   "outputs": [],
   "source": [
    "# ---- 1. Maximum Sharpe Ratio Portfolio ----\n",
    "\n",
    "def optimize_max_sharpe(mean_returns, cov_matrix, risk_free_rate=0.0):\n",
    "    \n",
    "    w = cp.Variable(n)\n",
    "    excess_return = mean_returns - risk_free_rate\n",
    "    port_return =  excess_return @ w\n",
    "    port_risk = cp.quad_form(w, cov_matrix)\n",
    "    \n",
    "    # Minimize risk for 1 unit of excess return\n",
    "    objective = cp.Minimize(port_risk) \n",
    "    constraints = [w >= 0, port_return == 1]\n",
    "    \n",
    "    prob = cp.Problem(objective, constraints)\n",
    "    prob.solve()            \n",
    "    # print(prob.solver_stats.solver_name)\n",
    "    \n",
    "    if w.value is not None:\n",
    "        # Normalize weights to sum to 1\n",
    "        w_normalized = w.value / np.sum(w.value)\n",
    "        return w_normalized\n",
    "    else:\n",
    "        return None"
   ]
  },
  {
   "cell_type": "code",
   "execution_count": null,
   "id": "fb78b05b",
   "metadata": {},
   "outputs": [],
   "source": [
    "# List of the solvers CVXPY supports\n",
    "from cvxpy import installed_solvers\n",
    "print(installed_solvers())"
   ]
  },
  {
   "cell_type": "code",
   "execution_count": null,
   "id": "568dd75a",
   "metadata": {},
   "outputs": [],
   "source": [
    "# ---- Run Optimizations ----\n",
    "msr_weights = optimize_max_sharpe(mean_returns, cov_matrix) \n",
    "msr_weights"
   ]
  },
  {
   "cell_type": "markdown",
   "id": "f1c3abb8",
   "metadata": {},
   "source": [
    "**Minimum Variance Portfolio**\n",
    "\n",
    "The Minimum Variance Portfolio aims to find asset weights that minimize overall portfolio risk, regardless of expected returns. In this formulation, we minimize the portfolio's variance using the covariance matrix of asset returns. The optimization is subject to two constraints: the weights must sum to 1 (fully invested portfolio), and short-selling is not allowed (weights ≥ 0). This problem is convex and efficiently solved using CVXPY."
   ]
  },
  {
   "cell_type": "code",
   "execution_count": null,
   "id": "65259d81",
   "metadata": {},
   "outputs": [],
   "source": [
    "# ---- 2. Minimum Variance Portfolio ----\n",
    "\n",
    "def optimize_min_variance(cov_matrix):\n",
    "    \n",
    "    w = cp.Variable(n)\n",
    "    \n",
    "    objective = cp.Minimize(cp.quad_form(w, cov_matrix))\n",
    "    constraints = [cp.sum(w) == 1, w >= 0]\n",
    "    \n",
    "    prob = cp.Problem(objective, constraints)\n",
    "    prob.solve()\n",
    "    \n",
    "    return w.value"
   ]
  },
  {
   "cell_type": "code",
   "execution_count": null,
   "id": "dd261344",
   "metadata": {},
   "outputs": [],
   "source": [
    "# ---- Run Optimizations ----\n",
    "mv_weights = optimize_min_variance(cov_matrix) \n",
    "mv_weights"
   ]
  },
  {
   "cell_type": "markdown",
   "id": "fa6b85aa",
   "metadata": {},
   "source": [
    "**Maximum Return Portfolio**\n",
    "\n",
    "The Maximum Return Portfolio focuses solely on maximizing expected returns, without considering portfolio risk. Given the vector of mean asset returns, this optimization finds the portfolio weights that yield the highest expected return, subject to two constraints: full investment (weights sum to 1) and no short-selling (weights ≥ 0). This is a linear program and is efficiently solvable using CVXPY."
   ]
  },
  {
   "cell_type": "code",
   "execution_count": null,
   "id": "47cb5c7a",
   "metadata": {},
   "outputs": [],
   "source": [
    "# ---- 3. Maximum Return Portfolio ----\n",
    "\n",
    "def optimize_max_return(mean_returns):\n",
    "    \n",
    "    w = cp.Variable(n)\n",
    "    \n",
    "    objective = cp.Maximize(mean_returns @ w)\n",
    "    constraints = [cp.sum(w) == 1, w >= 0]\n",
    "    \n",
    "    prob = cp.Problem(objective, constraints)\n",
    "    prob.solve()\n",
    "    \n",
    "    return w.value"
   ]
  },
  {
   "cell_type": "code",
   "execution_count": null,
   "id": "9e368a97",
   "metadata": {},
   "outputs": [],
   "source": [
    "# ---- Run Optimizations ----\n",
    "mr_weights = optimize_max_return(mean_returns)\n",
    "mr_weights"
   ]
  },
  {
   "cell_type": "markdown",
   "id": "c2069235",
   "metadata": {},
   "source": [
    "**Portfolio Composition after Optimization**"
   ]
  },
  {
   "cell_type": "code",
   "execution_count": null,
   "id": "4d4a65e1",
   "metadata": {},
   "outputs": [],
   "source": [
    "# MV Weights\n",
    "mvwtdf = pd.DataFrame(100*mv_weights, index=assets, columns=['wts'])\n",
    "mvwtdf.iplot(kind='pie', showlegend=True, title='MV Weights')"
   ]
  },
  {
   "cell_type": "markdown",
   "id": "b4e17548",
   "metadata": {},
   "source": [
    "## Efficient Frontier"
   ]
  },
  {
   "cell_type": "markdown",
   "id": "d14fd1c1",
   "metadata": {},
   "source": [
    "The Efficient Frontier is formed by a set of portfolios offering the highest expected portfolio return for a certain volatility or offering the lowest volatility for a certain level of expected returns. \n",
    "\n",
    "**`Minimize Portfolio Risk for a Target Return`:** \n",
    "\n",
    "* Risk objective and Return constraint\n",
    "\n",
    "$$\\underset{w_1,w_2,\\dots,w_n}{minimize} \\space\\space \\sigma^2_{p}(w_1,w_2,\\dots,w_n)$$\n",
    "\n",
    "subject to,\n",
    "\n",
    "$$E[R_p] = m$$\n",
    "\n",
    "\n",
    "**`Maximize Portfolio Return for a Target Risk`**:\n",
    "* Return objective and Risk constraint\n",
    "\n",
    "$$\\underset{w_1,w_2,\\dots,w_n}{maximize} \\space\\space E[R_p(w_1,w_2,\\dots,w_n)]$$\n",
    "\n",
    "subject to,\n",
    "\n",
    "$$\\sigma^2_{p}(w_1,w_2,\\dots,w_n)=v^2$$\n",
    "\n",
    "where, $\\sum_{i=1}^{n}w_i=1$, \n",
    "\n",
    "$m$ is the target return, and \n",
    "\n",
    "$v$ is the target volatility for the above objectives. \n",
    "\n",
    "We can use numerical optimization techniques such as quadratic programming to solve these problems. The goal is to find the optimal portfolio weights that minimize or maximize the objective function, while satisfying the specified constraints. These techniques allow us to compute the full efficient frontier by iterating across a range of return or risk levels."
   ]
  },
  {
   "cell_type": "code",
   "execution_count": null,
   "id": "8330956d",
   "metadata": {},
   "outputs": [],
   "source": [
    "# ---- 4. Efficient Frontier ----\n",
    "\n",
    "def efficient_frontier(mean_returns, cov_matrix, points=100):\n",
    "    \n",
    "    target_returns = np.linspace(mean_returns.min(), mean_returns.max(), points)\n",
    "    frontier = []\n",
    "\n",
    "    for target in target_returns:\n",
    "        \n",
    "        w = cp.Variable(n)\n",
    "        port_risk = cp.quad_form(w, cov_matrix)\n",
    "        \n",
    "        objective = cp.Minimize(port_risk)\n",
    "        constraints = [cp.sum(w) == 1, w >= 0, mean_returns @ w == target]\n",
    "         \n",
    "        prob = cp.Problem(objective, constraints)\n",
    "        prob.solve()\n",
    "        \n",
    "        if w.value is not None:\n",
    "            vol = np.sqrt(w.value.T @ cov_matrix @ w.value)\n",
    "            frontier.append((vol, target))\n",
    "            \n",
    "    return np.array(frontier)"
   ]
  },
  {
   "cell_type": "markdown",
   "id": "d31988c6",
   "metadata": {},
   "source": [
    "**Plot Efficient Frontier**"
   ]
  },
  {
   "cell_type": "code",
   "execution_count": null,
   "id": "6aec94db",
   "metadata": {},
   "outputs": [],
   "source": [
    "# ---- Get Optimized Portfolio Statistics ----\n",
    "def get_stats(w):\n",
    "    ret = mean_returns @ w\n",
    "    vol = np.sqrt(w.T @ cov_matrix @ w)\n",
    "    return 100*ret, 100*vol\n",
    "\n",
    "msr_ret,msr_vol = get_stats(msr_weights)\n",
    "mv_ret, mv_vol = get_stats(mv_weights)\n",
    "mr_ret, mr_vol = get_stats(mr_weights)"
   ]
  },
  {
   "cell_type": "code",
   "execution_count": null,
   "id": "eff7d1ea",
   "metadata": {},
   "outputs": [],
   "source": [
    "# ---- 5. Plot Efficient Frontier ----\n",
    "\n",
    "ef_curve = efficient_frontier(mean_returns, cov_matrix)\n",
    "ef_port = 100 * pd.DataFrame(ef_curve, columns=['Volatility', 'Return'])\n",
    "\n",
    "fig = ef_port.iplot(\n",
    "    kind='scatter',\n",
    "    x='Volatility', \n",
    "    y='Return', \n",
    "    title='Efficient Frontier Portfolio', \n",
    "    name='Efficient Frontier', \n",
    "    xaxis_title=\"Volatility (Risk)\", \n",
    "    yaxis_title=\"Expected Return\", \n",
    "    showlegend=True\n",
    "    ) \n",
    "\n",
    "fig.add_trace(go.Scatter(x=[msr_vol], y=[msr_ret], \n",
    "    marker=dict(size=10, color='green'), text=[\"Max Sharpe\"], name='Max Sharpe'))\n",
    "\n",
    "fig.add_trace(go.Scatter(x=[mv_vol], y=[mv_ret], \n",
    "        marker=dict(size=10, color='blue'), text=[\"Min Variance\"], name='Min Variance'))    "
   ]
  },
  {
   "cell_type": "markdown",
   "id": "fa270ae6",
   "metadata": {},
   "source": [
    "---\n",
    "[Kannan Singaravelu](https://www.linkedin.com/in/kannansi) | Refer [Quantmod](https://kannansingaravelu.com/quantmod/), [Plotly](https://plotly.com/python/) and [CVXPY](https://www.cvxpy.org/index.html) for more information."
   ]
  }
 ],
 "metadata": {
  "kernelspec": {
   "display_name": "faip",
   "language": "python",
   "name": "python3"
  },
  "language_info": {
   "codemirror_mode": {
    "name": "ipython",
    "version": 3
   },
   "file_extension": ".py",
   "mimetype": "text/x-python",
   "name": "python",
   "nbconvert_exporter": "python",
   "pygments_lexer": "ipython3",
   "version": "3.10.18"
  }
 },
 "nbformat": 4,
 "nbformat_minor": 5
}
