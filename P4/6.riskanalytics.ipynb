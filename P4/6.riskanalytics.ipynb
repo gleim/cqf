{
 "cells": [
  {
   "cell_type": "markdown",
   "id": "2553153d",
   "metadata": {},
   "source": [
    "# Risk Analytics"
   ]
  },
  {
   "cell_type": "markdown",
   "id": "57406714",
   "metadata": {},
   "source": [
    "Risk analytics is the practice of using data, statistical models, and simulations to identify, measure, and manage potential losses in uncertain environments. It helps organizations anticipate different risk scenarios by quantifying how likely and severe those risks might be, enabling smarter decision-making.\n",
    "\n",
    "## Value-at-Risk (VaR)\n",
    "\n",
    "There are several methods to evaluate the risk of an individual stock or a portfolio, such as variance and standard deviation of returns. However, these measures do not take into account the probability distribution of potential losses.\n",
    "\n",
    "Many risk managers prefer a more intuitive and probabilistic measure called Value at Risk (VaR). It is one of the most widely used metrics for assessing the risk of a financial position or a portfolio of financial instruments. VaR is defined as:\n",
    "\n",
    "`The maximum expected loss over a given time horizon, at a specified confidence level, under normal market conditions.`\n",
    "\n",
    "For example, if the 1-day 95% VaR of a portfolio is $100, this means that there is a 95% confidence that the portfolio will not lose more than $100 over the next day.\n",
    "\n",
    "There are several methods to calculate VaR, including:\n",
    "\n",
    "* Parametric (Variance-Covariance)\n",
    "\n",
    "* Historical Simulation\n",
    "\n",
    "* Monte Carlo Simulation\n",
    "\n",
    "* Modified VaR (e.g., using Cornish-Fisher expansion)\n",
    "\n"
   ]
  },
  {
   "cell_type": "markdown",
   "id": "ae0c9368",
   "metadata": {},
   "source": [
    "**Import Libraries**"
   ]
  },
  {
   "cell_type": "code",
   "execution_count": null,
   "id": "6657b1e7",
   "metadata": {},
   "outputs": [],
   "source": [
    "# Import libraries\n",
    "import sys\n",
    "import os\n",
    "sys.path.append(os.path.abspath(\"..\"))\n",
    "\n",
    "import numpy as np\n",
    "import pandas as pd\n",
    "import quantmod.charts\n",
    "from utils import query_all_stocks\n",
    "from pprint import pprint\n",
    "from numpy.linalg import multi_dot\n",
    "from collections import OrderedDict\n",
    "\n",
    "from scipy import stats\n",
    "from tabulate import tabulate\n",
    "\n",
    "# Set precision\n",
    "pd.set_option('display.precision', 4)"
   ]
  },
  {
   "cell_type": "markdown",
   "id": "57adddc2",
   "metadata": {},
   "source": [
    "## Data Retrieval\n",
    "\n",
    "We will retrieve price data for selected stocks from our database to build our portfolio."
   ]
  },
  {
   "cell_type": "code",
   "execution_count": null,
   "id": "639ea4e3",
   "metadata": {},
   "outputs": [],
   "source": [
    "# Query stock data from database\n",
    "df = query_all_stocks()\n",
    "assets = sorted(['ICICIBANK', 'ITC', 'RELIANCE', 'TCS', 'ASIANPAINT'])\n",
    "df = df[assets]\n",
    "returns = df.pct_change().dropna()\n",
    "\n",
    "# Select a single stock\n",
    "stockreturn = returns['ICICIBANK']\n",
    "\n",
    "# Calculate mean and standard deviation \n",
    "mean = stockreturn.mean()\n",
    "stdev = stockreturn.std()\n",
    "\n",
    "returns.head()"
   ]
  },
  {
   "cell_type": "markdown",
   "id": "069463c0",
   "metadata": {},
   "source": [
    "### Parametric VaR\n",
    "\n",
    "The Variance-Covariance method is a parametric approach that assumes asset returns are normally distributed. Under this assumption, risk can be estimated using just the mean ($\\mu$) and standard deviation ($\\sigma$) of returns.\n",
    "\n",
    "The formula for VaR under this method is:\n",
    "\n",
    "$$VaR=position×(μ−z⋅σ)$$\n",
    "\n",
    "Common Z-Scores for Confidence Levels:\n",
    "\n",
    "| Confidence Level  |Z-score         | Value At Risk     \n",
    "| :-                |:---------      |:---------            \n",
    "|`90%`              |1.28             |$\\mu$ - $1.28$ * $\\sigma$ \n",
    "|`95%`              |1.64             |$\\mu$ - $1.64$ * $\\sigma$             \n",
    "|`99%`              |2.33             |$\\mu$ - $2.33$ * $\\sigma$             \n",
    "\n",
    "where, $\\mu$ is the mean return, $\\sigma$ is the volatility and $z$ is the number of standard deviation from the mean.\n",
    "\n",
    "Note: These z-values come from the standard normal distribution.\n",
    "\n",
    "The parametric VaR method is fast and easy to compute, but its accuracy heavily depends on the normality assumption, which may underestimate risk in extreme market conditions."
   ]
  },
  {
   "cell_type": "code",
   "execution_count": null,
   "id": "32a2fa41",
   "metadata": {},
   "outputs": [],
   "source": [
    "# Portfolio or position value\n",
    "position_value = 1\n",
    "\n",
    "# Calculate VaR at difference confidence level\n",
    "VaR_90 = stats.norm.ppf(0.10, loc=mean, scale=stdev)\n",
    "VaR_95 = stats.norm.ppf(0.05, loc=mean, scale=stdev)\n",
    "VaR_99 = stats.norm.ppf(0.01, loc=mean, scale=stdev)"
   ]
  },
  {
   "cell_type": "code",
   "execution_count": null,
   "id": "0f76097f",
   "metadata": {},
   "outputs": [],
   "source": [
    "# Ouput results in tabular format\n",
    "table = [['90%', VaR_90],['95%', VaR_95],['99%', VaR_99]]\n",
    "header = ['Confidence Level', 'Value At Risk']\n",
    "print(tabulate(table,headers=header))"
   ]
  },
  {
   "cell_type": "markdown",
   "id": "fe5bec82",
   "metadata": {},
   "source": [
    "### Historical VaR\n",
    "\n",
    "In practice, asset returns often deviate from the normal distribution — exhibiting skewness, kurtosis, and fat tails. To account for this, the Historical VaR method offers a non-parametric alternative that does not assume any specific distribution for returns.\n",
    "\n",
    "Instead, it uses actual historical returns to estimate risk. The steps are:\n",
    "\n",
    "* Collect a time series of historical returns.\n",
    "\n",
    "* Sort the returns in ascending order.\n",
    "\n",
    "* Identify the return at the desired percentile threshold corresponding to the confidence level.\n",
    "\n",
    "For example, the 5th percentile (i.e., the return at the bottom 5%) corresponds to a 95% confidence level. This return is interpreted as the maximum expected loss under normal historical conditions with the chosen confidence level. If the 1-day Historical VaR at the 95% confidence level is -2.3%, it means, in 95% of past trading days, the portfolio did not lose more than 2.3% in a single day."
   ]
  },
  {
   "cell_type": "code",
   "execution_count": null,
   "id": "1492bf29",
   "metadata": {},
   "outputs": [],
   "source": [
    "# Use quantile function for Historical VaR\n",
    "hVaR_90 = np.percentile(stockreturn, 10)\n",
    "hVaR_95 = np.percentile(stockreturn, 5)\n",
    "hVaR_99 = np.percentile(stockreturn, 1)"
   ]
  },
  {
   "cell_type": "code",
   "execution_count": null,
   "id": "5468943a",
   "metadata": {},
   "outputs": [],
   "source": [
    "# Ouput results in tabular format\n",
    "htable = [['90%', hVaR_90],['95%', hVaR_95],['99%', hVaR_99]]\n",
    "print(tabulate(htable,headers=header))\n"
   ]
  },
  {
   "cell_type": "markdown",
   "id": "1844e8b4",
   "metadata": {},
   "source": [
    "### Monte Carlo VaR\n",
    "\n",
    "The Monte Carlo simulation approach is similar to historical simulation in that it uses many simulated possible future returns to estimate risk. However, unlike historical VaR, which uses actual past returns, Monte Carlo VaR assumes that returns follow a specified probability distribution (commonly normal distribution).\n",
    "\n",
    "Using the mean and standard deviation calculated from historical returns, the Monte Carlo method generates n random simulated returns from the assumed distribution. These simulated returns are then sorted in ascending order to estimate the maximum potential loss at a given confidence level.\n",
    "\n",
    "This approach allows flexibility to model complex return distributions and risk factors but depends on the accuracy of the assumed distribution."
   ]
  },
  {
   "cell_type": "code",
   "execution_count": null,
   "id": "53873571",
   "metadata": {},
   "outputs": [],
   "source": [
    "# Set seed for reproducibility\n",
    "np.random.seed(42)\n",
    "\n",
    "# Number of simulations\n",
    "n_sims = 10000\n",
    "\n",
    "# Simulate returns assuming normal distribution with given mean and stdev\n",
    "sim_returns = np.random.normal(mean, stdev, n_sims)\n",
    "\n",
    "# Calculate Monte Carlo VaR at different confidence levels using percentiles\n",
    "MCVaR_90 = np.percentile(sim_returns, 10)  \n",
    "MCVaR_95 = np.percentile(sim_returns, 5)  \n",
    "MCVaR_99 = np.percentile(sim_returns, 1)  "
   ]
  },
  {
   "cell_type": "code",
   "execution_count": null,
   "id": "b68b7ba5",
   "metadata": {},
   "outputs": [],
   "source": [
    "# Ouput results in tabular format\n",
    "mctable = [['90%', MCVaR_90],['95%', MCVaR_95],['99%', MCVaR_99]]\n",
    "print(tabulate(mctable,headers=header))"
   ]
  },
  {
   "cell_type": "markdown",
   "id": "ec311e40",
   "metadata": {},
   "source": [
    "### Normality Test\n",
    "\n",
    "In the Parametric VaR method, we assume that returns are normally distributed. However, in practice, financial return distributions often show skewness, kurtosis, and fat tails, which deviate from the normal distribution.\n",
    "\n",
    "Before relying on a parametric VaR approach, it's important to check whether this normality assumption holds for the asset or portfolio returns.\n",
    "\n",
    "#### Shapiro-Wilk Test\n",
    "\n",
    "The Shapiro-Wilk test is a statistical test used to assess normality of a dataset. It tests the null hypothesis that the data was drawn from a normal distribution.\n",
    "\n",
    "* _Null Hypothesis ($H_0$): Data is normally distributed_\n",
    "\n",
    "* _Alternative Hypothesis ($H_1$): Data is not normally distributed_    \n",
    "\n",
    "* _A p-value < 0.05 suggests that the distribution significantly deviates from normality._"
   ]
  },
  {
   "cell_type": "code",
   "execution_count": null,
   "id": "dc4b4c7c",
   "metadata": {},
   "outputs": [],
   "source": [
    "# Perform the Shapiro-Wilk test\n",
    "stats.shapiro(stockreturn)"
   ]
  },
  {
   "cell_type": "markdown",
   "id": "b6b9f4c6",
   "metadata": {},
   "source": [
    "Given that the p-value is extremely small (< 0.05), we reject the null hypothesis. This provides strong statistical evidence that the sample of daily returns does not come from a normal distribution. This result is not surprising. Financial returns are known to exhibit fat tails, Skewness, and Volatility clustering. Because this dataset reflects empirical financial returns, it's expected to deviate from the idealized bell curve assumed in parametric models.\n",
    "\n",
    "Since the normality assumption is violated, we should not rely solely on Parametric VaR, which assumes returns are normally distributed. This assumption, when incorrect, can lead to underestimation of tail risk and inaccurate risk metrics. Instead, more robust alternatives should be considered, such as Historical VaR, Monte Carlo with non-normal distributions, or Modified VaR (e.g., Cornish-Fisher) if you want to adjust for skew and kurtosis. These methods provide a more accurate representation of financial risk under non-normal conditions and are better suited for empirical return distributions."
   ]
  },
  {
   "cell_type": "markdown",
   "id": "de9a87db",
   "metadata": {},
   "source": [
    "#### Anderson-Darling Test\n",
    "\n",
    "As an alternative to the Shapiro-Wilk test, we can use the Anderson-Darling test, a goodness-of-fit test that evaluates how well a given dataset fits a specified probability distribution. This test is particularly sensitive to deviations in the tails of the distribution, which makes it especially useful in finance, where extreme values (tail risk) matter. It is most commonly used to assess whether data follows a normal distribution, although it can be used to test other distributions as well.\n",
    "\n",
    "* _Null Hypothesis ($H_0$): The data follows the specified distribution (e.g., normal)._\n",
    "\n",
    "* _The test returns a statistic and critical values for various significance levels (15%, 10%, 5%, 2.5%, 1%)._\n",
    "\n",
    "* _If the test statistic is greater than the critical value for your chosen significance level, you reject the null hypothesis._\n",
    "\n"
   ]
  },
  {
   "cell_type": "code",
   "execution_count": null,
   "id": "eb49d22f",
   "metadata": {},
   "outputs": [],
   "source": [
    "# Run the Anderson-Darling test for normality\n",
    "stats.anderson(stockreturn, dist='norm')"
   ]
  },
  {
   "cell_type": "markdown",
   "id": "096c894e",
   "metadata": {},
   "source": [
    "Since the test statistic (2.9662) is greater than all critical values (even at the 1% level), we reject the null hypothesis. There is strong evidence that the return distribution significantly deviates from normality. This result is consistent with what we expect in real-world financial data."
   ]
  },
  {
   "cell_type": "markdown",
   "id": "a412e654",
   "metadata": {},
   "source": [
    "**Plot Histogram**\n",
    "\n",
    "We will now plot histogram to visualize the returns distribution"
   ]
  },
  {
   "cell_type": "code",
   "execution_count": null,
   "id": "e0743359",
   "metadata": {},
   "outputs": [],
   "source": [
    "# Plot histogram of daily returns\n",
    "returns.iplot(kind=\"histogram\", overlap=False, showlegend=True)"
   ]
  },
  {
   "cell_type": "markdown",
   "id": "3f2722e3",
   "metadata": {},
   "source": [
    "### Modified VaR \n",
    "\n",
    "The standard normal distribution is defined by four key statistical moments: Mean ($\\mu$): 0, Variance ($\\sigma^2$): 1, Skewness ($s$): 0 and Kurtosis ($k$): 3\n",
    "\n",
    "However, in real-world financial returns, the skewness and excess kurtosis are often non-zero. This violates the assumptions of normality, making standard Parametric VaR insufficient. To address this, the Modified VaR (also known as Cornish-Fisher VaR) incorporates the third and fourth moments, skewness and kurtosis along with mean and standard deviation, to better estimate tail risk.\n",
    "\n",
    "$$mVaR=position×(μ−t⋅σ)$$\n",
    "\n",
    "Where, $$t = z + \\frac{1}{6} (z^{2} - 1)s + \\frac{1}{24}(z^{3} - 3z)k - \\frac{1}{36}(2z^{3} - 5z)s^{2}$$\n",
    "\n",
    "$\\mu$ is the mean return, $\\sigma$ is the standard deviation of returns, $s$ is skewness, $k$ is excess kurtosis (i.e., kurtosis − 3), $z$ is the z-score for the desired confidence level (e.g., 1.64 for 95%) and $t$ is the Cornish-Fisher adjusted quantile.\n",
    "\n",
    "Modified VaR adjusts for asymmetry (skewness) and fat tails (excess kurtosis), making it a more robust estimator than the standard parametric VaR. It effectively bridges the gap between the simplicity of parametric VaR and the computational intensity of full Monte Carlo simulations."
   ]
  },
  {
   "cell_type": "code",
   "execution_count": null,
   "id": "87e05811",
   "metadata": {},
   "outputs": [],
   "source": [
    "dist = OrderedDict({\n",
    "    'Mean': np.mean(stockreturn),\n",
    "    'StdDev': np.std(stockreturn),\n",
    "    'Skew': stats.skew(stockreturn),\n",
    "    'Kurtosis': stats.kurtosis(stockreturn)\n",
    "})\n",
    "\n",
    "pprint(dist)"
   ]
  },
  {
   "cell_type": "code",
   "execution_count": null,
   "id": "33ed00b7",
   "metadata": {},
   "outputs": [],
   "source": [
    "mean = np.mean(stockreturn)\n",
    "stdev = np.std(stockreturn)\n",
    "s = stats.skew(stockreturn)\n",
    "k = stats.kurtosis(stockreturn)\n",
    "z = abs(stats.norm.ppf(0.01))\n",
    "\n",
    "t = z + (1/6)*(z**2 - 1)*s + (1/24)*(z**3 - 3*z)*k - (1/36)*(2*z**3 - 5*z)*s**2\n",
    "\n",
    "mVaR_99 = -(mean - t * stdev) \n",
    "print(f\"Modified VaR (99%): {mVaR_99}\")"
   ]
  },
  {
   "cell_type": "markdown",
   "id": "79f2ac41",
   "metadata": {},
   "source": [
    "## Expected Shortfall (Conditional Value at Risk, CVaR)\n",
    "\n",
    "Value at Risk (VaR) is a popular risk metric, but it can underestimate the risk if the return distribution has fat tails or overestimate the risk if the tails are thinner than assumed.\n",
    "\n",
    "Expected Shortfall or Conditional Value at Risk (CVaR) provides a more coherent risk measure by estimating the expected loss conditional on losses exceeding the VaR threshold. In other words, it calculates the average loss in the worst 1- 𝑐𝑙% of cases.\n",
    "\n",
    "Assuming we have 𝑛 return observations, CVaR at confidence level 𝑐l is defined as:\n",
    "\n",
    "$$CVaR = \\frac{1}{n} \\sum_{i=1}^{n} R_i \\cdot \\mathbf{1}_{\\{ R_i \\leq VaR_{cl} \\}}$$\n",
    "\n",
    "where,\n",
    "* $R_i$ are the returns, \n",
    "* $VaR_{cl}$ is the VaR threshold at confidence level $cl$,\n",
    "* $\\mathbf{1}_{\\{.\\}}$ is the indicator function that is 1 if the condition holds, 0 otherwise.\n",
    "\n",
    "\n",
    "\n",
    "Put simply, CVaR is the average return of all losses worse than the VaR threshold, making it a more informative risk measure in the presence of fat tails or skewness."
   ]
  },
  {
   "cell_type": "code",
   "execution_count": null,
   "id": "2e7ff3a6",
   "metadata": {},
   "outputs": [],
   "source": [
    "# Calculate CVar\n",
    "CVaR_90 = -stockreturn[stockreturn <= hVaR_90].mean()\n",
    "CVaR_95 = -stockreturn[stockreturn <= hVaR_95].mean()\n",
    "CVaR_99 = -stockreturn[stockreturn <= hVaR_99].mean()"
   ]
  },
  {
   "cell_type": "code",
   "execution_count": null,
   "id": "22d35b25",
   "metadata": {},
   "outputs": [],
   "source": [
    "# Ouput results in tabular format\n",
    "ctable = [['90%', CVaR_90],['95%', CVaR_95],['99%', CVaR_99] ]\n",
    "cheader = ['Confidence Level', 'Conditional Value At Risk']\n",
    "print(tabulate(ctable,headers=cheader))"
   ]
  },
  {
   "cell_type": "markdown",
   "id": "cd32292e",
   "metadata": {},
   "source": [
    "## Portfolio Value at Risk\n",
    "\n",
    "When assessing portfolio-level risk, it's important to account not only for the individual returns and volatilities of the assets but also for their correlations with each other.\n",
    "\n",
    "In this section, we focus on estimating the VaR of a minimum variance portfolio constructed from the previous section. A minimum variance portfolio aims to achieve the lowest possible volatility by optimally weighting assets based on their covariance structure. Once we determine the optimal weights, we can compute the portfolio's overall volatility and subsequently derive its VaR.\n",
    "\n",
    "This approach provides a more accurate and diversified measure of risk compared to evaluating individual asset VaRs in isolation.\n",
    "\n"
   ]
  },
  {
   "cell_type": "code",
   "execution_count": null,
   "id": "012ad8bf",
   "metadata": {},
   "outputs": [],
   "source": [
    "# Weights from Minimum Variance Portfolio \n",
    "# assets = ['ASIANPAINT', 'ICICIBANK', 'ITC', 'RELIANCE', 'TCS']\n",
    "wts = np.array([0.25951357, 0.05657516, 0.29447842, 0.0772431 , 0.31218975])\n",
    "\n",
    "# Portfolio mean returns and volatility\n",
    "port_mean = wts.T @ returns.mean()\n",
    "port_stdev = np.sqrt(multi_dot([wts.T, returns.cov(), wts]))\n",
    "\n",
    "pVaR = stats.norm.ppf(0.01, port_mean, port_stdev)\n",
    "\n",
    "print(f\"Mean: {port_mean}, Stdev: {port_stdev}, pVaR: {pVaR}\")"
   ]
  },
  {
   "cell_type": "markdown",
   "id": "fc28dfdc",
   "metadata": {},
   "source": [
    "## Quantmod Risk Module\n",
    "\n",
    "The quantmod risk module offers a comprehensive set of tools to assess the risk associated with financial portfolios. It includes key risk metrics such as Value at Risk (VaR) and Conditional Value at Risk (CVaR), along with functionality for VaR backtesting to evaluate the accuracy of risk forecasts. These tools are essential for quantifying potential losses under normal and extreme market conditions, making them valuable for portfolio risk management and compliance. \n",
    "\n",
    "Key features include:\n",
    "\n",
    "* RiskInputs: A structured input class to standardize asset returns, confidence levels, and time horizons for risk measurement.\n",
    "\n",
    "* ValueAtRisk: Computes the portfolio’s VaR using multiple models.\n",
    "\n",
    "* ConditionalVaR (CVaR): Estimates the expected loss in the tail.\n",
    "\n",
    "* VarBacktester: Facilitates VaR backtesting by comparing predicted VaR values to realized returns, counting breaches and supporting statistical evaluation of model accuracy."
   ]
  },
  {
   "cell_type": "code",
   "execution_count": null,
   "id": "b53689fa",
   "metadata": {},
   "outputs": [],
   "source": [
    "# Import Quantmod Risk Metrics\n",
    "from quantmod.risk import RiskInputs, VaRMetrics, VaRAnalyzer"
   ]
  },
  {
   "cell_type": "markdown",
   "id": "9a2a81b6",
   "metadata": {},
   "source": [
    "### Single Stock Risk Analysis"
   ]
  },
  {
   "cell_type": "code",
   "execution_count": null,
   "id": "f605a227",
   "metadata": {},
   "outputs": [],
   "source": [
    "single_stock_risk_metrics = VaRMetrics(\n",
    "    RiskInputs(\n",
    "        confidence_level=0.99,\n",
    "        lookback_period=252,\n",
    "        num_simulations=10000,\n",
    "        portfolio_weights=None,\n",
    "        portfolio_returns=stockreturn.to_frame(),\n",
    "        is_single_stock=True,\n",
    "    )\n",
    ")"
   ]
  },
  {
   "cell_type": "code",
   "execution_count": null,
   "id": "80d0e07a",
   "metadata": {},
   "outputs": [],
   "source": [
    "print(\n",
    "    f\"\\nSingle Stock VaR and CVaR for the given confidence level\"\n",
    ")\n",
    "print(f\"Parametric VaR : {single_stock_risk_metrics.parametric_var:.4f}\")\n",
    "print(f\"Historical VaR : {single_stock_risk_metrics.historical_var:.4f}\")\n",
    "print(f\"Monte Carlo VaR : {single_stock_risk_metrics.monte_carlo_var:.4f}\")\n",
    "print(f\"Expected Shortfall : {single_stock_risk_metrics.expected_shortfall:.4f}\")"
   ]
  },
  {
   "cell_type": "markdown",
   "id": "c04da383",
   "metadata": {},
   "source": [
    "### Portfolio Risk Analysis"
   ]
  },
  {
   "cell_type": "code",
   "execution_count": null,
   "id": "8efb6acb",
   "metadata": {},
   "outputs": [],
   "source": [
    "# Portfolio\n",
    "portfolio_risk_metrics = VaRMetrics(\n",
    "    RiskInputs(\n",
    "        confidence_level=0.99,\n",
    "        lookback_period=252,\n",
    "        num_simulations=10000,\n",
    "        portfolio_weights=[\n",
    "            0.25951357, \n",
    "            0.05657516, \n",
    "            0.29447842, \n",
    "            0.0772431 , \n",
    "            0.31218975            \n",
    "        ],\n",
    "        portfolio_returns=returns,\n",
    "        is_single_stock=False,\n",
    "    )\n",
    ")"
   ]
  },
  {
   "cell_type": "code",
   "execution_count": null,
   "id": "97525580",
   "metadata": {},
   "outputs": [],
   "source": [
    "# Print results\n",
    "print(\"Portfolio VaR and CVaR for the given confidence level\")\n",
    "print(f\"Parametric VaR : {portfolio_risk_metrics.parametric_var:.4f}\")\n",
    "print(f\"Historical VaR : {portfolio_risk_metrics.historical_var:.4f}\")\n",
    "print(f\"Monte Carlo VaR : {portfolio_risk_metrics.monte_carlo_var:.4f}\")\n",
    "print(f\"Expected Shortfall : {portfolio_risk_metrics.expected_shortfall:.4f}\")"
   ]
  },
  {
   "cell_type": "markdown",
   "id": "b388da57",
   "metadata": {},
   "source": [
    "### VaR Backtesting Analysis\n",
    "\n",
    "VaR backtesting is used to assess how well a VaR model predicts actual losses. It involves comparing the predicted VaR values to the realized portfolio returns to identify instances where losses exceed the expected threshold, known as VaR breaches.\n",
    "\n",
    "The Quantmod risk module provides a convenient framework for performing VaR backtests. It counts the number of breaches and evaluates whether they are statistically consistent with the model’s confidence level. This helps determine whether the VaR model underestimates or overestimates risk, making it a critical component of risk model validation and compliance."
   ]
  },
  {
   "cell_type": "code",
   "execution_count": null,
   "id": "d27f88d4",
   "metadata": {},
   "outputs": [],
   "source": [
    "# VaR Backtest\n",
    "backtest_results = VaRAnalyzer(\n",
    "    inputs=RiskInputs(\n",
    "        portfolio_returns=stockreturn.to_frame(),\n",
    "        confidence_level=0.99,\n",
    "        lookback_period=252,\n",
    "    )\n",
    ").run\n",
    "print(f\" Backtested VaR Results: \\n {backtest_results}\")"
   ]
  },
  {
   "cell_type": "markdown",
   "id": "fa270ae6",
   "metadata": {},
   "source": [
    "---\n",
    "[Kannan Singaravelu](https://www.linkedin.com/in/kannansi) | Refer [Quantmod](https://kannansingaravelu.com/quantmod/) for more information."
   ]
  }
 ],
 "metadata": {
  "kernelspec": {
   "display_name": "faip",
   "language": "python",
   "name": "python3"
  },
  "language_info": {
   "codemirror_mode": {
    "name": "ipython",
    "version": 3
   },
   "file_extension": ".py",
   "mimetype": "text/x-python",
   "name": "python",
   "nbconvert_exporter": "python",
   "pygments_lexer": "ipython3",
   "version": "3.10.18"
  }
 },
 "nbformat": 4,
 "nbformat_minor": 5
}
