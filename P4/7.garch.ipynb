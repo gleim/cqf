{
 "cells": [
  {
   "cell_type": "markdown",
   "metadata": {},
   "source": [
    "# Conditional Volatility"
   ]
  },
  {
   "cell_type": "markdown",
   "metadata": {},
   "source": [
    "Asset price volatility is central to derivatives pricing. It is defined as measure of price variability over certain period of time. In essence, it describes standard deviation of returns. There are different types of volatility: Historical, Implied, Forward. In most cases, we assume volatility to be constant, which is clearly not true and numerous studies have been dedicated to estimate this variable, both in academia and industry. \n",
    "\n",
    "**Volatility**\n",
    "\n",
    "Volatility estimation by statistical means assume equal weights to all returns measured over the period. We know that over 1-day, the mean return is small as compared to standard deviation. If we consider a simple *m*-period moving average, where $\\sigma_n$ is the volatility of return on day n, then with $\\overline u$ $\\approx$ 0, we have <br><br>\n",
    "\n",
    "$$ \\sigma^2_n = \\frac 1 m \\sum_{i=1}^m u^2_{n-i} $$\n",
    "\n",
    "where, $u$ is return and $\\sigma^2$ is the variance.\n",
    "\n",
    "**ARCH**\n",
    "\n",
    "However, any large return within this *n* period will elevate the volatility until it drops out of the sample. Further, we observe volatility is mean reverting and tends to vary about a long term mean. To address this effect, we adopt to the weighting schemes.<br><br>\n",
    "\n",
    "$$ \\sigma^2_n = \\gamma \\overline \\sigma^2 + \\sum_{i=1}^m \\alpha_i u^2_{n-i} $$\n",
    "\n",
    "$$ \\sigma^2_n = \\omega + \\sum_{i=1}^m \\alpha_i u^2_{n-i} $$\n",
    "\n",
    "where, $\\omega = \\gamma \\overline \\sigma^2$ and weights must sum to 1.\n",
    "\n",
    "This is known as Autoregressive Conditional Heteroscedastic model. Autoregressive models are a statistical technique involving a regression of lagged values where the model suggests that past values can help forecast future values of the same variable. Within the model, a time series is the dependent variable and lagged values are the independent variables. \n",
    "\n",
    "The ARCH model, was originally developed by Robert Engle in 1982 to measure the dynamics of inflation uncertainty. Conditional heteroskedasticity refers to the notion that the next period’s volatility is conditional on the volatility in the current period as well as to the time varying nature of volatility. However, given the volatility dynamics, this model fail to fully capture the persistence of volatility.\n",
    "\n",
    "**GARCH**\n",
    "\n",
    "To address the shortcoming, ARCH has been extended to a generalised framework where we add volatility as a forecasting feature by adding previous variance. This method is popularly known as Generalized ARCH or GARCH model.<br><br> \n",
    "\n",
    "$$ \\sigma^2_n = \\omega + \\sum_{i=1}^p \\alpha_i u^2_{n-i} + \\sum_{i=1}^q \\beta_i \\sigma^2_{n-i} $$\n",
    "\n",
    "where, $p$ and $q$ are lag length.\n",
    "\n",
    "GARCH(1,1) is then represented as,\n",
    "\n",
    "$$ \\sigma^2_n = \\omega + \\alpha u^2_{n-1} + \\beta \\sigma^2_{n-1} $$\n",
    "\n",
    "where, $\\alpha + \\beta < 1$ and $\\gamma + \\alpha + \\beta = 1$ as weight applied to long term variance cannot be negative and $\\frac {\\omega} {(1-\\alpha-\\beta)}$ is the long-run variance. \n",
    "\n",
    "The GARCH model is a way of specifying the dependence of the time varying nature of volatility. The model incorporates changes in the fluctuations in volatility and tracks the persistence of volatility as it fluctuates around its long-term average and are exponentially weighted. To model GARCH or the conditional volatility, we need to derive $\\omega$, $\\alpha$, $\\beta$ by maximizing the likelihood function."
   ]
  },
  {
   "cell_type": "markdown",
   "metadata": {},
   "source": [
    "## ARCH Toolbox\n",
    "ARCH is one of the popular tools used for financial econometrics, written in Python - with Cython and/or Numba used to improve performance. We will now use `arch_model` to fit our GARCH model using this package."
   ]
  },
  {
   "cell_type": "code",
   "execution_count": null,
   "metadata": {},
   "outputs": [],
   "source": [
    "# Import libraries\n",
    "import sys\n",
    "import os\n",
    "sys.path.append(os.path.abspath(\"..\"))\n",
    "\n",
    "import numpy as np\n",
    "import quantmod.charts\n",
    "from arch import arch_model \n",
    "from utils import query_all_stocks"
   ]
  },
  {
   "cell_type": "code",
   "execution_count": null,
   "metadata": {},
   "outputs": [],
   "source": [
    "# Query stock data from database\n",
    "df = query_all_stocks()\n",
    "assets = sorted(['ICICIBANK', 'ITC', 'RELIANCE', 'TCS', 'ASIANPAINT'])\n",
    "df = df[assets]\n",
    "returns = df.pct_change().dropna()\n",
    "\n",
    "# Select a single stock\n",
    "stockreturn = returns['ICICIBANK']"
   ]
  },
  {
   "cell_type": "code",
   "execution_count": null,
   "metadata": {},
   "outputs": [],
   "source": [
    "# Mean zero\n",
    "g1 = arch_model(stockreturn*100, vol='GARCH', mean='Zero', p=2, q=2, dist='Normal')\n",
    "model = g1.fit()"
   ]
  },
  {
   "cell_type": "code",
   "execution_count": null,
   "metadata": {},
   "outputs": [],
   "source": [
    "# Model output\n",
    "print(model)"
   ]
  },
  {
   "cell_type": "code",
   "execution_count": null,
   "metadata": {},
   "outputs": [],
   "source": [
    "# Extract the conditional volatility\n",
    "conditional_volatility = model.conditional_volatility\n",
    "\n",
    "# Annualize the volatility (assuming 252 trading days)\n",
    "annualized_volatility = conditional_volatility * np.sqrt(252)"
   ]
  },
  {
   "cell_type": "markdown",
   "metadata": {},
   "source": [
    "**Plot Conditional Volatility**"
   ]
  },
  {
   "cell_type": "code",
   "execution_count": null,
   "metadata": {},
   "outputs": [],
   "source": [
    "# Plot annualised volatility\n",
    "(annualized_volatility.to_frame()).iplot(kind=\"line\", title=\"Annualised Volatility from GARCH(1,1) Model\")"
   ]
  },
  {
   "cell_type": "markdown",
   "metadata": {
    "slideshow": {
     "slide_type": "fragment"
    }
   },
   "source": [
    "---\n",
    "[Kannan Singaravelu](https://www.linkedin.com/in/kannansi) | Refer [Quantmod](https://kannansingaravelu.com/quantmod/) and [Arch](https://arch.readthedocs.io/en/latest/index.html) for more information."
   ]
  }
 ],
 "metadata": {
  "kernelspec": {
   "display_name": "faip",
   "language": "python",
   "name": "python3"
  },
  "language_info": {
   "codemirror_mode": {
    "name": "ipython",
    "version": 3
   },
   "file_extension": ".py",
   "mimetype": "text/x-python",
   "name": "python",
   "nbconvert_exporter": "python",
   "pygments_lexer": "ipython3",
   "version": "3.10.18"
  },
  "nbTranslate": {
   "displayLangs": [
    "*"
   ],
   "hotkey": "alt-t",
   "langInMainMenu": true,
   "sourceLang": "en",
   "targetLang": "fr",
   "useGoogleTranslate": true
  },
  "toc": {
   "base_numbering": 1,
   "nav_menu": {},
   "number_sections": true,
   "sideBar": true,
   "skip_h1_title": true,
   "title_cell": "Table of Contents",
   "title_sidebar": "Contents",
   "toc_cell": false,
   "toc_position": {
    "height": "calc(100% - 180px)",
    "left": "10px",
    "top": "150px",
    "width": "217.1875px"
   },
   "toc_section_display": true,
   "toc_window_display": false
  },
  "toc-autonumbering": true
 },
 "nbformat": 4,
 "nbformat_minor": 4
}
