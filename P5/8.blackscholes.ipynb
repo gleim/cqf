{
 "cells": [
  {
   "cell_type": "markdown",
   "metadata": {},
   "source": [
    "# Black Scholes Model"
   ]
  },
  {
   "cell_type": "markdown",
   "metadata": {},
   "source": [
    "The Black-Scholes model was published in 1973 for pricing options on non-dividend-paying stocks. Since then, it has revolutionized quantitative finance and laid the foundation for modern derivatives pricing. The Black-Scholes model is based on a number of assumptions about how financial markets operate, including:\n",
    "\n",
    "Arbitrage-free markets\n",
    "\n",
    "Frictionless and continuous trading\n",
    "\n",
    "A constant risk-free interest rate\n",
    "\n",
    "Log-normally distributed asset price movements\n",
    "\n",
    "Constant volatility\n",
    "\n",
    "While these assumptions may not hold true in reality, they are not necessarily restrictive. The generalized Black-Scholes framework has been extended to price derivatives on other asset classes, such as the Black-76 model for commodity futures and the Garman-Kohlhagen model for foreign exchange (FX) options. These models remain widely used in derivative pricing and risk management today.\n",
    "\n",
    "**Black Scholes Formula**\n",
    "\n",
    "The Black–Scholes equation describes the price of the option over time as\n",
    "\n",
    "$$\n",
    "\\frac{\\partial V}{\\partial t}\n",
    "+ \\frac 1{2}{\\sigma^2 S^2} \\frac{\\partial^2 V}{\\partial S^2}\n",
    "+ r S \\frac{\\partial V}{\\partial S} - rV = 0 \n",
    "$$\n",
    "\n",
    "<br>Solving the above equation, we know that the value of a call option for a non-dividend paying stock is:<br>\n",
    "\n",
    "$$ C = SN(d_1) - Ke^{-rt}N(d_2) $$\n",
    "\n",
    "and, the corresponding put option price is:\n",
    "\n",
    "$$ P = Ke^{-rt}N(-d_2) - SN(-d_1)$$\n",
    "\n",
    "where, \n",
    "\n",
    "$$ d_1= \\frac{1}{\\sigma \\sqrt{t}}\\left[\\ln{\\left(\\frac{S}{K}\\right)} +{\\left(r + \\frac{\\sigma^2}{2}\\right)}t\\right] $$\n",
    "<br>\n",
    "\n",
    "$$ d_2= d_1 - \\sigma \\sqrt{t} $$\n",
    "<br>\n",
    "\n",
    "$$ N(x)=\\frac{1}{\\sqrt{2\\pi}} \\int_{-\\infty}^{x} \\mathrm e^{-\\frac{1}{2}x^2} dx $$\n",
    "\n",
    "\n",
    "$S$ is the spot price of the underlying asset<br>\n",
    "$K$ is the strike price<br>\n",
    "$r$ is the annualized continuous compounded risk free rate<br>\n",
    "$\\sigma$ is the volatility of returns of the underlying asset<br>\n",
    "$t$ is time to maturity (expressed in years)<br>\n",
    "$N(x)$ is the standard normal cumulative distribution<br>\n",
    "\n",
    "\n",
    "**Greeks**\n",
    "\n",
    "| **Description** |  | **Greeks for Call Option** | **Greeks for Put Option**             \n",
    "|:-----------|:----------------|:----------------|:--------                                                                                                       \n",
    "| **Delta**  |$ \\space\\space \\frac {\\partial V}{\\partial S}$ Sensitivity of Value to changes in price | $N(d_1)$ | $-N(-d_1)$\n",
    "| **Gamma**  |$ \\space\\space \\frac {\\partial ^{2}V}{\\partial S^{2}}$ Sensitivity of Delta to changes in price | $\\frac{N'(d_1)}{S\\sigma\\sqrt{t}}$\n",
    "| **Vega**   |$ \\space\\space \\frac {\\partial V}{\\partial \\sigma}$ Sensitivity of Value to changes in volatility | $SN'(d_1)\\sqrt{t}$\n",
    "| **Theta**  |$ \\space\\space \\frac {\\partial V}{\\partial t}$ Sensitivity of Value to changes in time | $-\\frac{SN'(d_1)\\sigma}{2\\sqrt{t}}-rKe^{-rt}N(d_2)$ | $-\\frac{SN'(d_1)\\sigma}{2\\sqrt{t}}+rKe^{-rt}N(-d_2)$\n",
    "| **Rho**    |$ \\space\\space \\frac {\\partial V}{\\partial r}$  Sensitivity of Value to changes in risk-free | $Kte^{-rt}N(d_2)$ | $-Kte^{-rt}N(-d_2)$"
   ]
  },
  {
   "cell_type": "markdown",
   "metadata": {},
   "source": [
    "**Import Libraries**"
   ]
  },
  {
   "cell_type": "code",
   "execution_count": null,
   "metadata": {},
   "outputs": [],
   "source": [
    "# Import libraries\n",
    "import pandas as pd\n",
    "import numpy as np\n",
    "from scipy.stats import norm\n",
    "from tabulate import tabulate"
   ]
  },
  {
   "cell_type": "markdown",
   "metadata": {},
   "source": [
    "**Calculate Option Price**"
   ]
  },
  {
   "cell_type": "code",
   "execution_count": null,
   "metadata": {},
   "outputs": [],
   "source": [
    "# Define function for pricing\n",
    "def black_scholes_price(S, K, T, r, sigma, option_type='call'):\n",
    "    '''Black Scholes Option Pricing'''\n",
    "    \n",
    "    d1 = (np.log(S / K) + (r + 0.5 * sigma ** 2) * T) / (sigma * np.sqrt(T))\n",
    "    d2 = d1 - sigma * np.sqrt(T)\n",
    "    \n",
    "    if option_type == 'call':\n",
    "        return S * norm.cdf(d1) - K * np.exp(-r * T) * norm.cdf(d2)\n",
    "    elif option_type == 'put':\n",
    "        return K * np.exp(-r * T) * norm.cdf(-d2) - S * norm.cdf(-d1)\n",
    "    else:\n",
    "        raise ValueError(\"option_type must be 'call' or 'put'\")"
   ]
  },
  {
   "cell_type": "code",
   "execution_count": null,
   "metadata": {},
   "outputs": [],
   "source": [
    "# BS Price \n",
    "black_scholes_price(100,100,1,0.05,0.2,option_type='put')"
   ]
  },
  {
   "cell_type": "markdown",
   "metadata": {},
   "source": [
    "**Calculate Greeks**"
   ]
  },
  {
   "cell_type": "code",
   "execution_count": null,
   "metadata": {},
   "outputs": [],
   "source": [
    "def compute_greeks(S, K, T, r, sigma, option_type='call'):\n",
    "    '''Compute option greeks'''\n",
    "    \n",
    "    d1 = (np.log(S / K) + (r + 0.5 * sigma ** 2) * T) / (sigma * np.sqrt(T))\n",
    "    d2 = d1 - sigma * np.sqrt(T)\n",
    "\n",
    "    delta = norm.cdf(d1) if option_type == 'call' else -norm.cdf(-d1)\n",
    "    gamma = norm.pdf(d1) / (S * sigma * np.sqrt(T))\n",
    "    vega = S * norm.pdf(d1) * np.sqrt(T) / 100  \n",
    "    \n",
    "    theta_call = (-S * norm.pdf(d1) * sigma / (2 * np.sqrt(T)) - r * K * np.exp(-r * T) * norm.cdf(d2)) / 365\n",
    "    theta_put = (-S * norm.pdf(d1) * sigma / (2 * np.sqrt(T)) + r * K * np.exp(-r * T) * norm.cdf(-d2)) / 365\n",
    "    \n",
    "    rho_call = K * T * np.exp(-r * T) * norm.cdf(d2) / 100\n",
    "    rho_put = -K * T * np.exp(-r * T) * norm.cdf(-d2) / 100\n",
    "\n",
    "    theta = theta_call if option_type == 'call' else theta_put\n",
    "    rho = rho_call if option_type == 'call' else rho_put\n",
    "\n",
    "    return {'Delta': delta, 'Gamma': gamma, 'Vega': vega, 'Theta': theta, 'Rho': rho}\n"
   ]
  },
  {
   "cell_type": "code",
   "execution_count": null,
   "metadata": {},
   "outputs": [],
   "source": [
    "compute_greeks(100,100,1,0.05,0.2,option_type=\"put\")"
   ]
  },
  {
   "cell_type": "markdown",
   "metadata": {},
   "source": [
    "## Quantmod Option Module\n",
    "\n",
    "The quantmod option module offers a versatile and comprehensive toolkit for valuing a wide range of financial derivatives. It includes multiple pricing models implemented in Python such as Black-Scholes, Binomial, and Monte Carlo methods, enabling accurate computation of theoretical prices for European, American, and exotic options, including Asian and barrier options.\n",
    "\n",
    "Built with a clean, object-oriented architecture and leveraging Pydantic for smart function calling and input validation, the module allows users to easily specify input parameters, configure model-specific settings like time steps or simulation paths, handle early exercise features, and generate precise valuations all through a unified and intuitive Python API.\n",
    "\n",
    "Its flexible design makes it ideal for creating intelligent option agents and building custom MCP servers by harnessing the power of function calling.\n",
    "\n",
    "Key Features:\n",
    "\n",
    "* OptionInputs: A structured class to standardize and validate input parameters.\n",
    "\n",
    "* BlackScholesOptionPricing: Implements the Black-Scholes model for pricing options and calculating Greeks.\n",
    "\n",
    "* BinomialOptionPricing: Prices options using the binomial tree method, including support for early exercise.\n",
    "\n",
    "* MonteCarloOptionPricing: Uses Monte Carlo simulation to price European, Asian, and barrier options."
   ]
  },
  {
   "cell_type": "markdown",
   "metadata": {},
   "source": [
    "Let's now price the option Black Scholes Options using quantmod "
   ]
  },
  {
   "cell_type": "code",
   "execution_count": null,
   "metadata": {},
   "outputs": [],
   "source": [
    "# Import Quantmod Option Module\n",
    "from quantmod.models import OptionInputs, BlackScholesOptionPricing"
   ]
  },
  {
   "cell_type": "code",
   "execution_count": null,
   "metadata": {},
   "outputs": [],
   "source": [
    "# Define option inputs parameters\n",
    "inputs=OptionInputs(\n",
    "    spot=100,\n",
    "    strike=100,\n",
    "    ttm=1,\n",
    "    rate=0.05,\n",
    "    volatility=0.2\n",
    "    )\n",
    "\n",
    "# Initialize the BS Option Pricing Engine\n",
    "option = BlackScholesOptionPricing(inputs=inputs)"
   ]
  },
  {
   "cell_type": "code",
   "execution_count": null,
   "metadata": {},
   "outputs": [],
   "source": [
    "# Print the BS option price\n",
    "header = ['Option Price', 'Delta', 'Gamma', 'Theta', 'Vega', 'Rho']\n",
    "table = [\n",
    "    [option.call_price, option.call_delta, option.gamma, option.call_theta, option.vega, option.call_rho],\n",
    "    [option.put_price, option.put_delta, option.gamma, option.put_theta, option.vega, option.put_rho]\n",
    "]\n",
    "\n",
    "print(tabulate(table,header))"
   ]
  },
  {
   "cell_type": "markdown",
   "metadata": {},
   "source": [
    "## Visualise Payoff"
   ]
  },
  {
   "cell_type": "code",
   "execution_count": null,
   "metadata": {},
   "outputs": [],
   "source": [
    "# Import opstrat\n",
    "import opstrat as op"
   ]
  },
  {
   "cell_type": "markdown",
   "metadata": {},
   "source": [
    "**Single Payoff: Call Option**"
   ]
  },
  {
   "cell_type": "code",
   "execution_count": null,
   "metadata": {},
   "outputs": [],
   "source": [
    "# Plot option payoff\n",
    "op.single_plotter(\n",
    "    op_type='c',\n",
    "    spot=inputs.spot,\n",
    "    spot_range=25,\n",
    "    strike=inputs.strike,\n",
    "    tr_type='b',\n",
    "    op_pr=option.call_price\n",
    ")"
   ]
  },
  {
   "cell_type": "markdown",
   "metadata": {},
   "source": [
    "**Multi-leg Payoff: Straddle**"
   ]
  },
  {
   "cell_type": "code",
   "execution_count": null,
   "metadata": {},
   "outputs": [],
   "source": [
    "# Straddle\n",
    "op_1 = {'op_type': 'c', 'strike':inputs.strike, 'tr_type': 's', 'op_pr': option.call_price}\n",
    "op_2 = {'op_type': 'p', 'strike':inputs.strike, 'tr_type': 's', 'op_pr': option.put_price}\n",
    "\n",
    "# plot\n",
    "op_list = [op_1, op_2]\n",
    "op.multi_plotter(spot=inputs.spot, spot_range=25, op_list=op_list)"
   ]
  },
  {
   "cell_type": "markdown",
   "metadata": {},
   "source": [
    "**Multi-leg Payoff: Strangle**"
   ]
  },
  {
   "cell_type": "code",
   "execution_count": null,
   "metadata": {},
   "outputs": [],
   "source": [
    "# Strangle\n",
    "leg1_inputs =  OptionInputs(spot=100,strike=110,ttm=1,rate=0.05,volatility=0.2) \n",
    "leg1 = BlackScholesOptionPricing(leg1_inputs)\n",
    "\n",
    "leg2_inputs =  OptionInputs(spot=100,strike=90,ttm=1,rate=0.05,volatility=0.2) \n",
    "leg2 = BlackScholesOptionPricing(leg2_inputs)\n",
    "    \n",
    "op_1 = {'op_type': 'c', 'strike':leg1_inputs.strike, 'tr_type': 's', 'op_pr': leg1.call_price}\n",
    "op_2 = {'op_type': 'p', 'strike':leg2_inputs.strike, 'tr_type': 's', 'op_pr': leg2.put_price}\n",
    "\n",
    "# plot\n",
    "op_list = [op_1, op_2]\n",
    "op.multi_plotter(spot=inputs.spot, spot_range=25, op_list=op_list)"
   ]
  },
  {
   "cell_type": "markdown",
   "metadata": {},
   "source": [
    "**Multi-leg Payoff: Ironfly**"
   ]
  },
  {
   "cell_type": "code",
   "execution_count": null,
   "metadata": {},
   "outputs": [],
   "source": [
    "# Ironfly\n",
    "leg2_inputs =  OptionInputs(spot=100,strike=90,ttm=1,rate=0.05,volatility=0.2) \n",
    "leg2 = BlackScholesOptionPricing(leg2_inputs)\n",
    "\n",
    "leg3_inputs =  OptionInputs(spot=100,strike=110,ttm=1,rate=0.05,volatility=0.2) \n",
    "leg3 = BlackScholesOptionPricing(leg3_inputs)\n",
    "\n",
    "op_1 = {'op_type': 'c', 'strike':inputs.strike, 'tr_type': 's', 'op_pr': option.call_price}\n",
    "op_2 = {'op_type': 'p', 'strike':inputs.strike, 'tr_type': 's', 'op_pr': option.put_price}\n",
    "op_3 = {'op_type': 'p', 'strike':leg2_inputs.strike, 'tr_type': 'b', 'op_pr': leg2.put_price}\n",
    "op_4 = {'op_type': 'c', 'strike':leg3_inputs.strike, 'tr_type': 'b', 'op_pr': leg3.call_price}\n",
    "\n",
    "op_list = [op_1, op_2, op_3, op_4]\n",
    "op.multi_plotter(spot=inputs.spot, spot_range=25, op_list=op_list)"
   ]
  },
  {
   "cell_type": "markdown",
   "metadata": {},
   "source": [
    "## Greeks Analysis\n",
    "\n",
    "We'll now retrieve option chain for SPY for August 2025 expiration from yahoo finance and manipulate the option chain to perform our analysis. \n",
    "\n",
    "https://finance.yahoo.com/quote/SPY250829C00620000/"
   ]
  },
  {
   "cell_type": "code",
   "execution_count": null,
   "metadata": {},
   "outputs": [],
   "source": [
    "# Import quantmod\n",
    "from quantmod.markets import getTicker\n",
    "import quantmod.charts\n",
    "from datetime import datetime"
   ]
  },
  {
   "cell_type": "code",
   "execution_count": null,
   "metadata": {},
   "outputs": [],
   "source": [
    "# Get SPY option chain\n",
    "spy = getTicker('SPY')\n",
    "options = spy.option_chain('2025-08-29')\n",
    "dte = (datetime(2025, 8, 29) - datetime.today()).days/365"
   ]
  },
  {
   "cell_type": "code",
   "execution_count": null,
   "metadata": {},
   "outputs": [],
   "source": [
    "# August 2025 620 SPY call option price\n",
    "spy_opt = BlackScholesOptionPricing(OptionInputs(spot=620,strike=620,ttm=dte,rate=0.0,volatility=0.2107))\n",
    "\n",
    "print(f'Option Price of SPY250829C00620000 with BS Model is {spy_opt.call_price:0.4f}')"
   ]
  },
  {
   "cell_type": "code",
   "execution_count": null,
   "metadata": {},
   "outputs": [],
   "source": [
    "# Filter calls for strike at or above 600 and puts at or below 650 \n",
    "df = options.calls[(options.calls['strike'] >= 600) & (options.calls['strike'] <= 650)].copy()\n",
    "df = df[['strike', 'lastPrice']]\n",
    "# df.reset_index(drop=True, inplace=True)\n",
    "\n",
    "# Add implied volatility and initialize Greeks\n",
    "df['IV'] = 0.20\n",
    "df['Delta'] = 0.0\n",
    "df['Gamma'] = 0.0\n",
    "df['Vega'] = 0.0\n",
    "df['Theta'] = 0.0\n",
    "\n",
    "for idx, row in df.iterrows():\n",
    "    opt = BlackScholesOptionPricing(\n",
    "        OptionInputs(\n",
    "            spot=620,\n",
    "            strike=row['strike'],\n",
    "            ttm=dte,\n",
    "            rate=0.0,\n",
    "            volatility=row['IV']\n",
    "        )\n",
    "    )\n",
    "\n",
    "    df.at[idx, 'Delta'] = opt.call_delta\n",
    "    df.at[idx, 'Gamma'] = opt.gamma\n",
    "    df.at[idx, 'Vega'] = opt.vega\n",
    "    df.at[idx, 'Theta'] = opt.call_theta\n",
    "    \n",
    "# Set index\n",
    "df.set_index('strike', inplace=True)\n",
    "df.head(2)"
   ]
  },
  {
   "cell_type": "markdown",
   "metadata": {},
   "source": [
    "**Visualise Greeks Vs Strike Behaviour**"
   ]
  },
  {
   "cell_type": "code",
   "execution_count": null,
   "metadata": {},
   "outputs": [],
   "source": [
    "# Subplots of greeks\n",
    "df[['Delta', 'Gamma', 'Vega', 'Theta']].iplot(kind=\"subplots\", title=\"Greeks Vs Strikes\", showlegend=True)"
   ]
  },
  {
   "cell_type": "markdown",
   "metadata": {
    "slideshow": {
     "slide_type": "fragment"
    }
   },
   "source": [
    "---\n",
    "[Kannan Singaravelu](https://www.linkedin.com/in/kannansi) | Refer [Quantmod](https://kannansingaravelu.com/quantmod/) and [Opstrat](https://github.com/hashabcd/opstrat) for more information."
   ]
  }
 ],
 "metadata": {
  "kernelspec": {
   "display_name": "faip",
   "language": "python",
   "name": "python3"
  },
  "language_info": {
   "codemirror_mode": {
    "name": "ipython",
    "version": 3
   },
   "file_extension": ".py",
   "mimetype": "text/x-python",
   "name": "python",
   "nbconvert_exporter": "python",
   "pygments_lexer": "ipython3",
   "version": "3.10.18"
  },
  "nbTranslate": {
   "displayLangs": [
    "*"
   ],
   "hotkey": "alt-t",
   "langInMainMenu": true,
   "sourceLang": "en",
   "targetLang": "fr",
   "useGoogleTranslate": true
  },
  "toc": {
   "base_numbering": 1,
   "nav_menu": {},
   "number_sections": true,
   "sideBar": true,
   "skip_h1_title": true,
   "title_cell": "Table of Contents",
   "title_sidebar": "Contents",
   "toc_cell": false,
   "toc_position": {
    "height": "calc(100% - 180px)",
    "left": "10px",
    "top": "150px",
    "width": "217.1875px"
   },
   "toc_section_display": true,
   "toc_window_display": false
  },
  "toc-autonumbering": true
 },
 "nbformat": 4,
 "nbformat_minor": 4
}
